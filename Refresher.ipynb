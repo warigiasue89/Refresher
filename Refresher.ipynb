{
  "nbformat": 4,
  "nbformat_minor": 0,
  "metadata": {
    "colab": {
      "provenance": [],
      "authorship_tag": "ABX9TyNn0p3cJzM5+L7IT9xeGa/x",
      "include_colab_link": true
    },
    "kernelspec": {
      "name": "python3",
      "display_name": "Python 3"
    },
    "language_info": {
      "name": "python"
    }
  },
  "cells": [
    {
      "cell_type": "markdown",
      "metadata": {
        "id": "view-in-github",
        "colab_type": "text"
      },
      "source": [
        "<a href=\"https://colab.research.google.com/github/warigiasue89/Refresher/blob/master/Refresher.ipynb\" target=\"_parent\"><img src=\"https://colab.research.google.com/assets/colab-badge.svg\" alt=\"Open In Colab\"/></a>"
      ]
    },
    {
      "cell_type": "code",
      "execution_count": null,
      "metadata": {
        "id": "UVPQGXav3t8_"
      },
      "outputs": [],
      "source": [
        "import pandas as pd"
      ]
    },
    {
      "cell_type": "code",
      "source": [
        "import numpy as np\n",
        "import matplotlib.pyplot as plt"
      ],
      "metadata": {
        "id": "O6H8lIdO5lqF"
      },
      "execution_count": null,
      "outputs": []
    },
    {
      "cell_type": "code",
      "source": [
        "learning = list(['orange','pineapple','mango'])\n",
        "learning"
      ],
      "metadata": {
        "colab": {
          "base_uri": "https://localhost:8080/"
        },
        "id": "-Se-bPI55-FD",
        "outputId": "6d8245e3-18ad-463b-f53a-50ea95999629"
      },
      "execution_count": null,
      "outputs": [
        {
          "output_type": "execute_result",
          "data": {
            "text/plain": [
              "['orange', 'pineapple', 'mango']"
            ]
          },
          "metadata": {},
          "execution_count": 4
        }
      ]
    },
    {
      "cell_type": "code",
      "source": [
        "iteration = 2\n",
        "for i in learning:\n",
        "  iteration +=2\n",
        "  print('iteration number:', iteration)\n",
        "  print (i)\n",
        "print ('is not in the for loop')"
      ],
      "metadata": {
        "colab": {
          "base_uri": "https://localhost:8080/"
        },
        "id": "4_p2F1nf9q59",
        "outputId": "736d2c70-6fc0-4dbd-f7f2-d5a3c09564bd"
      },
      "execution_count": null,
      "outputs": [
        {
          "output_type": "stream",
          "name": "stdout",
          "text": [
            "iteration number: 4\n",
            "orange\n",
            "iteration number: 6\n",
            "pineapple\n",
            "iteration number: 8\n",
            "mango\n",
            "is not in the for loop\n"
          ]
        }
      ]
    },
    {
      "cell_type": "code",
      "source": [
        "for fruits in learning:\n",
        "  print (fruits)"
      ],
      "metadata": {
        "colab": {
          "base_uri": "https://localhost:8080/"
        },
        "id": "J-ek-rEk6PeC",
        "outputId": "ac1eb935-f698-4a69-d2d5-73a5f8461e70"
      },
      "execution_count": null,
      "outputs": [
        {
          "output_type": "stream",
          "name": "stdout",
          "text": [
            "orange\n",
            "pineapple\n",
            "mango\n"
          ]
        }
      ]
    },
    {
      "cell_type": "code",
      "source": [
        "countries= ['Crotia', 'USA', 'Argentina', 'France', 'Brazil', 'Japan','Vietnam']\n",
        "countries"
      ],
      "metadata": {
        "colab": {
          "base_uri": "https://localhost:8080/"
        },
        "id": "25ZMxyraA2t1",
        "outputId": "c7055e0d-99c8-47e4-a4df-7e2be18aab96"
      },
      "execution_count": null,
      "outputs": [
        {
          "output_type": "execute_result",
          "data": {
            "text/plain": [
              "['Crotia', 'USA', 'Argentina', 'France', 'Brazil', 'Japan', 'Vietnam']"
            ]
          },
          "metadata": {},
          "execution_count": 7
        }
      ]
    },
    {
      "cell_type": "code",
      "source": [
        "for index in range(len(countries)):\n",
        "  print(index)\n",
        "  print(countries[index])"
      ],
      "metadata": {
        "colab": {
          "base_uri": "https://localhost:8080/"
        },
        "id": "UkhIUOjBBXVc",
        "outputId": "a4630ffd-62ec-40ad-dd5b-e782aa92f81e"
      },
      "execution_count": null,
      "outputs": [
        {
          "output_type": "stream",
          "name": "stdout",
          "text": [
            "0\n",
            "Crotia\n",
            "1\n",
            "USA\n",
            "2\n",
            "Argentina\n",
            "3\n",
            "France\n",
            "4\n",
            "Brazil\n",
            "5\n",
            "Japan\n",
            "6\n",
            "Vietnam\n"
          ]
        }
      ]
    },
    {
      "cell_type": "code",
      "source": [
        "countries= ['Crotia', 'USA', 'Argentina', 'France', 'Brazil', 'Japan','Vietnam']\n",
        "cities = ['Zagreb', 'District of Columbia', 'Buenos Aires', 'Paris', 'Rio de Janeiro', 'Tokyo', 'Hanoi']"
      ],
      "metadata": {
        "id": "kf3miD5SDiA6"
      },
      "execution_count": null,
      "outputs": []
    },
    {
      "cell_type": "code",
      "source": [
        "for index in range(len(countries)):\n",
        "  print(cities[index],\",\", countries[index])"
      ],
      "metadata": {
        "colab": {
          "base_uri": "https://localhost:8080/"
        },
        "id": "SqnPnSrlDhm-",
        "outputId": "f3b650e9-bbb2-4290-f190-bcff00fd0fd6"
      },
      "execution_count": null,
      "outputs": [
        {
          "output_type": "stream",
          "name": "stdout",
          "text": [
            "Zagreb , Crotia\n",
            "District of Columbia , USA\n",
            "Buenos Aires , Argentina\n",
            "Paris , France\n",
            "Rio de Janeiro , Brazil\n",
            "Tokyo , Japan\n",
            "Hanoi , Vietnam\n"
          ]
        }
      ]
    },
    {
      "cell_type": "code",
      "source": [
        "# for index in range(8):\n",
        "#    print(cities[index],\",\", countries[index])"
      ],
      "metadata": {
        "colab": {
          "base_uri": "https://localhost:8080/",
          "height": 287
        },
        "id": "JhXOJB-u6_UD",
        "outputId": "9466be78-c1dd-4305-d8d7-862a7bc64ecd"
      },
      "execution_count": null,
      "outputs": [
        {
          "output_type": "stream",
          "name": "stdout",
          "text": [
            "Zagreb , Crotia\n",
            "District of Columbia , USA\n",
            "Buenos Aires , Argentina\n",
            "Paris , France\n",
            "Rio de Janeiro , Brazil\n",
            "Tokyo , Japan\n",
            "Hanoi , Vietnam\n"
          ]
        },
        {
          "output_type": "error",
          "ename": "IndexError",
          "evalue": "list index out of range",
          "traceback": [
            "\u001b[0;31m---------------------------------------------------------------------------\u001b[0m",
            "\u001b[0;31mIndexError\u001b[0m                                Traceback (most recent call last)",
            "\u001b[0;32m<ipython-input-12-f446f874fab2>\u001b[0m in \u001b[0;36m<cell line: 1>\u001b[0;34m()\u001b[0m\n\u001b[1;32m      1\u001b[0m \u001b[0;32mfor\u001b[0m \u001b[0mindex\u001b[0m \u001b[0;32min\u001b[0m \u001b[0mrange\u001b[0m\u001b[0;34m(\u001b[0m\u001b[0;36m8\u001b[0m\u001b[0;34m)\u001b[0m\u001b[0;34m:\u001b[0m\u001b[0;34m\u001b[0m\u001b[0;34m\u001b[0m\u001b[0m\n\u001b[0;32m----> 2\u001b[0;31m   \u001b[0mprint\u001b[0m\u001b[0;34m(\u001b[0m\u001b[0mcities\u001b[0m\u001b[0;34m[\u001b[0m\u001b[0mindex\u001b[0m\u001b[0;34m]\u001b[0m\u001b[0;34m,\u001b[0m\u001b[0;34m\",\"\u001b[0m\u001b[0;34m,\u001b[0m \u001b[0mcountries\u001b[0m\u001b[0;34m[\u001b[0m\u001b[0mindex\u001b[0m\u001b[0;34m]\u001b[0m\u001b[0;34m)\u001b[0m\u001b[0;34m\u001b[0m\u001b[0;34m\u001b[0m\u001b[0m\n\u001b[0m",
            "\u001b[0;31mIndexError\u001b[0m: list index out of range"
          ]
        }
      ]
    },
    {
      "cell_type": "code",
      "source": [
        "range(len(countries))"
      ],
      "metadata": {
        "colab": {
          "base_uri": "https://localhost:8080/"
        },
        "id": "P8HklTuU8nX2",
        "outputId": "b37d21f8-6f23-4bd2-8ef2-dbd25ffd0b52"
      },
      "execution_count": null,
      "outputs": [
        {
          "output_type": "execute_result",
          "data": {
            "text/plain": [
              "range(0, 7)"
            ]
          },
          "metadata": {},
          "execution_count": 14
        }
      ]
    },
    {
      "cell_type": "code",
      "source": [
        "list (range(len(countries)))"
      ],
      "metadata": {
        "colab": {
          "base_uri": "https://localhost:8080/"
        },
        "id": "B85qhuJE8mcY",
        "outputId": "f3649a99-c090-49e5-87fa-b775d46be0b5"
      },
      "execution_count": null,
      "outputs": [
        {
          "output_type": "execute_result",
          "data": {
            "text/plain": [
              "[0, 1, 2, 3, 4, 5, 6]"
            ]
          },
          "metadata": {},
          "execution_count": 19
        }
      ]
    },
    {
      "cell_type": "code",
      "source": [
        "for index in list(range(len(countries))):\n",
        "  print(cities[index],\",\",countries[index])\n"
      ],
      "metadata": {
        "colab": {
          "base_uri": "https://localhost:8080/"
        },
        "id": "l0cmDlFd9xsh",
        "outputId": "3b6a2f4a-4ea1-4472-9fb0-70cbee96ec86"
      },
      "execution_count": null,
      "outputs": [
        {
          "output_type": "stream",
          "name": "stdout",
          "text": [
            "Zagreb , Crotia\n",
            "District of Columbia , USA\n",
            "Buenos Aires , Argentina\n",
            "Paris , France\n",
            "Rio de Janeiro , Brazil\n",
            "Tokyo , Japan\n",
            "Hanoi , Vietnam\n"
          ]
        }
      ]
    },
    {
      "cell_type": "code",
      "source": [
        "countries.append ('Kenya')\n",
        "cities.append ('Nairobi')\n",
        "for index in list(range(len(countries))):\n",
        "  print(cities[index],\",\",countries[index])"
      ],
      "metadata": {
        "colab": {
          "base_uri": "https://localhost:8080/"
        },
        "id": "nal_EqLS-QSG",
        "outputId": "4a9d154a-e1de-405a-d919-0dd839bd56af"
      },
      "execution_count": null,
      "outputs": [
        {
          "output_type": "stream",
          "name": "stdout",
          "text": [
            "Zagreb , Crotia\n",
            "District of Columbia , USA\n",
            "Buenos Aires , Argentina\n",
            "Paris , France\n",
            "Rio de Janeiro , Brazil\n",
            "Tokyo , Japan\n",
            "Hanoi , Vietnam\n",
            "Nairobi , Kenya\n"
          ]
        }
      ]
    },
    {
      "cell_type": "code",
      "source": [
        "countries.reverse()\n"
      ],
      "metadata": {
        "id": "NwOxAsLC_hJS"
      },
      "execution_count": null,
      "outputs": []
    },
    {
      "cell_type": "code",
      "source": [
        "countries"
      ],
      "metadata": {
        "colab": {
          "base_uri": "https://localhost:8080/"
        },
        "id": "zb3qWOlMA0Mp",
        "outputId": "d8570604-d8be-422b-b070-9c3006763ba6"
      },
      "execution_count": null,
      "outputs": [
        {
          "output_type": "execute_result",
          "data": {
            "text/plain": [
              "['Kenya', 'Vietnam', 'Japan', 'Brazil', 'France', 'Argentina', 'USA', 'Crotia']"
            ]
          },
          "metadata": {},
          "execution_count": 38
        }
      ]
    },
    {
      "cell_type": "code",
      "source": [
        "different_elements = ['Susan', ['shopping', 10, 'Saturday'],{'This is the key': '10'}]\n",
        "different_elements"
      ],
      "metadata": {
        "colab": {
          "base_uri": "https://localhost:8080/"
        },
        "id": "b66R7r51DXud",
        "outputId": "4c2475c8-5506-41a5-92ed-590a0a980916"
      },
      "execution_count": null,
      "outputs": [
        {
          "output_type": "execute_result",
          "data": {
            "text/plain": [
              "['Susan', ['shopping', 10, 'Saturday'], {'This is the key': '10'}]"
            ]
          },
          "metadata": {},
          "execution_count": 49
        }
      ]
    },
    {
      "cell_type": "code",
      "source": [
        "for element in different_elements:\n",
        "  print(element)"
      ],
      "metadata": {
        "colab": {
          "base_uri": "https://localhost:8080/"
        },
        "id": "TgHfj3QyE-5j",
        "outputId": "7c11c983-6f69-487a-c783-fbf493fee36d"
      },
      "execution_count": null,
      "outputs": [
        {
          "output_type": "stream",
          "name": "stdout",
          "text": [
            "Susan\n",
            "['shopping', 10, 'Saturday']\n",
            "{'This is the key': '10'}\n"
          ]
        }
      ]
    },
    {
      "cell_type": "code",
      "source": [
        "example_of_dictionary = {'first_name': 'mia', 'last_name':'Kebaso','age':27}\n",
        "example_of_dictionary"
      ],
      "metadata": {
        "colab": {
          "base_uri": "https://localhost:8080/"
        },
        "id": "AL9nRGEfFOU4",
        "outputId": "d0aa7543-15ae-41ca-c20b-e9801aa78f05"
      },
      "execution_count": null,
      "outputs": [
        {
          "output_type": "execute_result",
          "data": {
            "text/plain": [
              "{'first_name': 'mia', 'last_name': 'Kebaso', 'age': 27}"
            ]
          },
          "metadata": {},
          "execution_count": 53
        }
      ]
    },
    {
      "cell_type": "code",
      "source": [
        "example_of_dictionary.items()"
      ],
      "metadata": {
        "colab": {
          "base_uri": "https://localhost:8080/"
        },
        "id": "i8cbG8QNGd0W",
        "outputId": "0604c638-3f04-4533-f860-fae7ebaa5068"
      },
      "execution_count": null,
      "outputs": [
        {
          "output_type": "execute_result",
          "data": {
            "text/plain": [
              "dict_items([('first_name', 'mia'), ('last_name', 'Kebaso'), ('age', 27)])"
            ]
          },
          "metadata": {},
          "execution_count": 57
        }
      ]
    },
    {
      "cell_type": "code",
      "source": [
        "example_of_dictionary.keys()"
      ],
      "metadata": {
        "colab": {
          "base_uri": "https://localhost:8080/"
        },
        "id": "B6eXHD_-G1r3",
        "outputId": "5b807ec4-0037-4d65-a8bd-d88e1e320c05"
      },
      "execution_count": null,
      "outputs": [
        {
          "output_type": "execute_result",
          "data": {
            "text/plain": [
              "dict_keys(['first_name', 'last_name', 'age'])"
            ]
          },
          "metadata": {},
          "execution_count": 58
        }
      ]
    },
    {
      "cell_type": "code",
      "source": [
        "example_of_dictionary.values()"
      ],
      "metadata": {
        "colab": {
          "base_uri": "https://localhost:8080/"
        },
        "id": "qKxSVkmBHMz2",
        "outputId": "7bd6f0a2-954a-4ef1-e175-55ebd2f4c0d7"
      },
      "execution_count": null,
      "outputs": [
        {
          "output_type": "execute_result",
          "data": {
            "text/plain": [
              "dict_values(['mia', 'Kebaso', 27])"
            ]
          },
          "metadata": {},
          "execution_count": 59
        }
      ]
    },
    {
      "cell_type": "code",
      "source": [
        "for key, value in example_of_dictionary.items():\n",
        "  print('this is the key:',key)\n",
        "  print('this is the value:', value,'\\n')"
      ],
      "metadata": {
        "colab": {
          "base_uri": "https://localhost:8080/"
        },
        "id": "RtbwZoilHPq-",
        "outputId": "caf18ccb-d24b-4492-d14a-2bda87b7c40a"
      },
      "execution_count": null,
      "outputs": [
        {
          "output_type": "stream",
          "name": "stdout",
          "text": [
            "this is the key: first_name\n",
            "this is the value: mia \n",
            "\n",
            "this is the key: last_name\n",
            "this is the value: Kebaso \n",
            "\n",
            "this is the key: age\n",
            "this is the value: 27 \n",
            "\n"
          ]
        }
      ]
    },
    {
      "cell_type": "code",
      "source": [
        "# last_name =''\n",
        "# first_name = ''\n",
        "for key,value in example_of_dictionary.items():\n",
        "  if key == 'first_name':\n",
        "    first_name = value.upper()\n",
        "  if key == 'last_name':\n",
        "    last_name = value.lower()\n",
        "print(first_name, last_name)\n"
      ],
      "metadata": {
        "colab": {
          "base_uri": "https://localhost:8080/"
        },
        "id": "oVahGE9TIXHY",
        "outputId": "99576be9-e210-4f8b-f5e2-dcc055c25b52"
      },
      "execution_count": null,
      "outputs": [
        {
          "output_type": "stream",
          "name": "stdout",
          "text": [
            "MIA kebaso\n"
          ]
        }
      ]
    },
    {
      "cell_type": "markdown",
      "source": [],
      "metadata": {
        "id": "UC-_YVGEtvYx"
      }
    },
    {
      "cell_type": "markdown",
      "source": [
        "WHILE LOOPS"
      ],
      "metadata": {
        "id": "pLGIqGJltzLX"
      }
    },
    {
      "cell_type": "markdown",
      "source": [
        "How to continue and break the loop"
      ],
      "metadata": {
        "id": "PpoZdUn7JyHk"
      }
    },
    {
      "cell_type": "code",
      "source": [
        "water_cans = 10\n",
        "cans_carried= 0\n",
        "\n",
        "for water_can in range(water_cans):\n",
        "  print('We have carried')\n",
        "  cans_carried +=1\n",
        "  print(f'{cans_carried} can')\n",
        "  # print(cans_carried)\n",
        "  # print(cans_carried,'cans so far')\n"
      ],
      "metadata": {
        "colab": {
          "base_uri": "https://localhost:8080/"
        },
        "id": "B7OkYSylJ32j",
        "outputId": "14eb1abf-8506-42dd-9ccc-964b7840510f"
      },
      "execution_count": 17,
      "outputs": [
        {
          "output_type": "stream",
          "name": "stdout",
          "text": [
            "We have carried\n",
            "1 can\n",
            "We have carried\n",
            "2 can\n",
            "We have carried\n",
            "3 can\n",
            "We have carried\n",
            "4 can\n",
            "We have carried\n",
            "5 can\n",
            "We have carried\n",
            "6 can\n",
            "We have carried\n",
            "7 can\n",
            "We have carried\n",
            "8 can\n",
            "We have carried\n",
            "9 can\n",
            "We have carried\n",
            "10 can\n"
          ]
        }
      ]
    },
    {
      "cell_type": "code",
      "source": [],
      "metadata": {
        "id": "lycELxhHMP21"
      },
      "execution_count": null,
      "outputs": []
    },
    {
      "cell_type": "markdown",
      "source": [
        "FUNCTIONS"
      ],
      "metadata": {
        "id": "mdI2oLFOhMju"
      }
    },
    {
      "cell_type": "code",
      "source": [
        "def greet_people():\n",
        "  print('Habari')"
      ],
      "metadata": {
        "id": "kYzxW_lwhRk0"
      },
      "execution_count": 1,
      "outputs": []
    },
    {
      "cell_type": "code",
      "source": [
        "greet_people()"
      ],
      "metadata": {
        "colab": {
          "base_uri": "https://localhost:8080/"
        },
        "id": "jiBfVaMciQ44",
        "outputId": "620a2211-261c-4e73-d92a-8a055893c117"
      },
      "execution_count": 2,
      "outputs": [
        {
          "output_type": "stream",
          "name": "stdout",
          "text": [
            "Habari\n"
          ]
        }
      ]
    },
    {
      "cell_type": "code",
      "source": [
        "def calc (a,b):\n",
        "  return(a*b)"
      ],
      "metadata": {
        "id": "hRJ50WZWiT57"
      },
      "execution_count": 4,
      "outputs": []
    },
    {
      "cell_type": "code",
      "source": [
        "calc(2,5)"
      ],
      "metadata": {
        "colab": {
          "base_uri": "https://localhost:8080/"
        },
        "id": "6bsjRw7Ei6s6",
        "outputId": "6ea9b2b8-7cdb-4db6-c3b5-44b4927c9a6f"
      },
      "execution_count": 5,
      "outputs": [
        {
          "output_type": "execute_result",
          "data": {
            "text/plain": [
              "10"
            ]
          },
          "metadata": {},
          "execution_count": 5
        }
      ]
    },
    {
      "cell_type": "code",
      "source": [
        "new_interns = ['Kelly', 'Fiona' , 'Susan']\n"
      ],
      "metadata": {
        "id": "LGYq6cZfi05m"
      },
      "execution_count": 6,
      "outputs": []
    },
    {
      "cell_type": "code",
      "source": [
        "# def greet_people(name):\n",
        "#   print('Habari', name)"
      ],
      "metadata": {
        "id": "muIado-3jx_t"
      },
      "execution_count": 7,
      "outputs": []
    },
    {
      "cell_type": "code",
      "source": [
        "# Defining a  function\n",
        "def greet_people():\n",
        "  welcome_message= []\n",
        "  for name in new_interns:\n",
        "    welcome_message.append('Habari' ' ' + name)\n",
        "  return welcome_message"
      ],
      "metadata": {
        "id": "ddD2tqakj81v"
      },
      "execution_count": 15,
      "outputs": []
    },
    {
      "cell_type": "code",
      "source": [
        "#Executing the function\n",
        "greet_people()"
      ],
      "metadata": {
        "colab": {
          "base_uri": "https://localhost:8080/"
        },
        "id": "EvsybxP9kC-a",
        "outputId": "e6a91d12-b8eb-4deb-b061-e36cc8869cbe"
      },
      "execution_count": 17,
      "outputs": [
        {
          "output_type": "execute_result",
          "data": {
            "text/plain": [
              "['Habari Kelly', 'Habari Fiona', 'Habari Susan']"
            ]
          },
          "metadata": {},
          "execution_count": 17
        }
      ]
    },
    {
      "cell_type": "code",
      "source": [],
      "metadata": {
        "id": "IrTW7slMlILp"
      },
      "execution_count": null,
      "outputs": []
    }
  ]
}