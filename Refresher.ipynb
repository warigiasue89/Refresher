{
  "nbformat": 4,
  "nbformat_minor": 0,
  "metadata": {
    "colab": {
      "provenance": [],
      "authorship_tag": "ABX9TyP/19/Gqv52Wq/3AK2gn/Rl",
      "include_colab_link": true
    },
    "kernelspec": {
      "name": "python3",
      "display_name": "Python 3"
    },
    "language_info": {
      "name": "python"
    }
  },
  "cells": [
    {
      "cell_type": "markdown",
      "metadata": {
        "id": "view-in-github",
        "colab_type": "text"
      },
      "source": [
        "<a href=\"https://colab.research.google.com/github/warigiasue89/Refresher/blob/master/Refresher.ipynb\" target=\"_parent\"><img src=\"https://colab.research.google.com/assets/colab-badge.svg\" alt=\"Open In Colab\"/></a>"
      ]
    },
    {
      "cell_type": "code",
      "execution_count": 1,
      "metadata": {
        "id": "UVPQGXav3t8_"
      },
      "outputs": [],
      "source": [
        "import pandas as pd"
      ]
    },
    {
      "cell_type": "code",
      "source": [
        "import numpy as np\n",
        "import matplotlib.pyplot as plt"
      ],
      "metadata": {
        "id": "O6H8lIdO5lqF"
      },
      "execution_count": 2,
      "outputs": []
    },
    {
      "cell_type": "code",
      "source": [
        "learning = list(['orange','pineapple','mango'])\n",
        "learning"
      ],
      "metadata": {
        "colab": {
          "base_uri": "https://localhost:8080/"
        },
        "id": "-Se-bPI55-FD",
        "outputId": "e39a8056-77b2-46d7-8814-b0857aab8fff"
      },
      "execution_count": 3,
      "outputs": [
        {
          "output_type": "execute_result",
          "data": {
            "text/plain": [
              "['orange', 'pineapple', 'mango']"
            ]
          },
          "metadata": {},
          "execution_count": 3
        }
      ]
    },
    {
      "cell_type": "code",
      "source": [
        "iteration = 2\n",
        "for i in learning:\n",
        "  iteration +=2\n",
        "  print('iteration number:', iteration)\n",
        "  print (i)\n",
        "print ('is not in the for loop')"
      ],
      "metadata": {
        "colab": {
          "base_uri": "https://localhost:8080/"
        },
        "id": "4_p2F1nf9q59",
        "outputId": "9a0ebe9e-88ae-42d8-d35c-6b61c2b06cc4"
      },
      "execution_count": 4,
      "outputs": [
        {
          "output_type": "stream",
          "name": "stdout",
          "text": [
            "iteration number: 4\n",
            "orange\n",
            "iteration number: 6\n",
            "pineapple\n",
            "iteration number: 8\n",
            "mango\n",
            "is not in the for loop\n"
          ]
        }
      ]
    },
    {
      "cell_type": "code",
      "source": [
        "for fruits in learning:\n",
        "  print (fruits)"
      ],
      "metadata": {
        "colab": {
          "base_uri": "https://localhost:8080/"
        },
        "id": "J-ek-rEk6PeC",
        "outputId": "094f101b-c4a5-4186-92f3-a21dc230e972"
      },
      "execution_count": 5,
      "outputs": [
        {
          "output_type": "stream",
          "name": "stdout",
          "text": [
            "orange\n",
            "pineapple\n",
            "mango\n"
          ]
        }
      ]
    },
    {
      "cell_type": "code",
      "source": [
        "countries= ['Crotia', 'USA', 'Argentina', 'France', 'Brazil', 'Japan','Vietnam']\n",
        "countries"
      ],
      "metadata": {
        "colab": {
          "base_uri": "https://localhost:8080/"
        },
        "id": "25ZMxyraA2t1",
        "outputId": "2f83f928-ebb3-44da-e1eb-5804b11a6f92"
      },
      "execution_count": 6,
      "outputs": [
        {
          "output_type": "execute_result",
          "data": {
            "text/plain": [
              "['Crotia', 'USA', 'Argentina', 'France', 'Brazil', 'Japan', 'Vietnam']"
            ]
          },
          "metadata": {},
          "execution_count": 6
        }
      ]
    },
    {
      "cell_type": "code",
      "source": [
        "for index in range(len(countries)):\n",
        "  print(index)\n",
        "  print(countries[index])"
      ],
      "metadata": {
        "colab": {
          "base_uri": "https://localhost:8080/"
        },
        "id": "UkhIUOjBBXVc",
        "outputId": "aaa9c030-6901-44d6-88e2-d91b0955a821"
      },
      "execution_count": 7,
      "outputs": [
        {
          "output_type": "stream",
          "name": "stdout",
          "text": [
            "0\n",
            "Crotia\n",
            "1\n",
            "USA\n",
            "2\n",
            "Argentina\n",
            "3\n",
            "France\n",
            "4\n",
            "Brazil\n",
            "5\n",
            "Japan\n",
            "6\n",
            "Vietnam\n"
          ]
        }
      ]
    },
    {
      "cell_type": "code",
      "source": [
        "countries= ['Crotia', 'USA', 'Argentina', 'France', 'Brazil', 'Japan','Vietnam']\n",
        "cities = ['Zagreb', 'District of Columbia', 'Buenos Aires', 'Paris', 'Rio de Janeiro', 'Tokyo', 'Hanoi']"
      ],
      "metadata": {
        "id": "kf3miD5SDiA6"
      },
      "execution_count": 8,
      "outputs": []
    },
    {
      "cell_type": "code",
      "source": [
        "for index in range(len(countries)):\n",
        "  print(cities[index],\",\", countries[index])"
      ],
      "metadata": {
        "colab": {
          "base_uri": "https://localhost:8080/"
        },
        "id": "SqnPnSrlDhm-",
        "outputId": "41cb7683-2be5-402b-cd6b-84d02bf426ce"
      },
      "execution_count": 9,
      "outputs": [
        {
          "output_type": "stream",
          "name": "stdout",
          "text": [
            "Zagreb , Crotia\n",
            "District of Columbia , USA\n",
            "Buenos Aires , Argentina\n",
            "Paris , France\n",
            "Rio de Janeiro , Brazil\n",
            "Tokyo , Japan\n",
            "Hanoi , Vietnam\n"
          ]
        }
      ]
    },
    {
      "cell_type": "code",
      "source": [
        "# for index in range(8):\n",
        "#    print(cities[index],\",\", countries[index])"
      ],
      "metadata": {
        "id": "JhXOJB-u6_UD"
      },
      "execution_count": 10,
      "outputs": []
    },
    {
      "cell_type": "code",
      "source": [
        "range(len(countries))"
      ],
      "metadata": {
        "colab": {
          "base_uri": "https://localhost:8080/"
        },
        "id": "P8HklTuU8nX2",
        "outputId": "22f6a722-0f43-48b4-e048-1a1d4a54be5b"
      },
      "execution_count": 11,
      "outputs": [
        {
          "output_type": "execute_result",
          "data": {
            "text/plain": [
              "range(0, 7)"
            ]
          },
          "metadata": {},
          "execution_count": 11
        }
      ]
    },
    {
      "cell_type": "code",
      "source": [
        "list (range(len(countries)))"
      ],
      "metadata": {
        "colab": {
          "base_uri": "https://localhost:8080/"
        },
        "id": "B85qhuJE8mcY",
        "outputId": "510ecc4d-1706-42fc-dcd6-4e4e065287d0"
      },
      "execution_count": 12,
      "outputs": [
        {
          "output_type": "execute_result",
          "data": {
            "text/plain": [
              "[0, 1, 2, 3, 4, 5, 6]"
            ]
          },
          "metadata": {},
          "execution_count": 12
        }
      ]
    },
    {
      "cell_type": "code",
      "source": [
        "for index in list(range(len(countries))):\n",
        "  print(cities[index],\",\",countries[index])\n"
      ],
      "metadata": {
        "colab": {
          "base_uri": "https://localhost:8080/"
        },
        "id": "l0cmDlFd9xsh",
        "outputId": "f58cc243-86a8-4321-8b76-41b475c526b8"
      },
      "execution_count": 13,
      "outputs": [
        {
          "output_type": "stream",
          "name": "stdout",
          "text": [
            "Zagreb , Crotia\n",
            "District of Columbia , USA\n",
            "Buenos Aires , Argentina\n",
            "Paris , France\n",
            "Rio de Janeiro , Brazil\n",
            "Tokyo , Japan\n",
            "Hanoi , Vietnam\n"
          ]
        }
      ]
    },
    {
      "cell_type": "code",
      "source": [
        "countries.append ('Kenya')\n",
        "cities.append ('Nairobi')\n",
        "for index in list(range(len(countries))):\n",
        "  print(cities[index],\",\",countries[index])"
      ],
      "metadata": {
        "colab": {
          "base_uri": "https://localhost:8080/"
        },
        "id": "nal_EqLS-QSG",
        "outputId": "761325f8-9391-4aee-d90d-71d3d617d602"
      },
      "execution_count": 14,
      "outputs": [
        {
          "output_type": "stream",
          "name": "stdout",
          "text": [
            "Zagreb , Crotia\n",
            "District of Columbia , USA\n",
            "Buenos Aires , Argentina\n",
            "Paris , France\n",
            "Rio de Janeiro , Brazil\n",
            "Tokyo , Japan\n",
            "Hanoi , Vietnam\n",
            "Nairobi , Kenya\n"
          ]
        }
      ]
    },
    {
      "cell_type": "code",
      "source": [
        "countries.reverse()\n"
      ],
      "metadata": {
        "id": "NwOxAsLC_hJS"
      },
      "execution_count": 15,
      "outputs": []
    },
    {
      "cell_type": "code",
      "source": [
        "countries"
      ],
      "metadata": {
        "colab": {
          "base_uri": "https://localhost:8080/"
        },
        "id": "zb3qWOlMA0Mp",
        "outputId": "50aaa859-49d7-4069-b494-5697b03a8dee"
      },
      "execution_count": 16,
      "outputs": [
        {
          "output_type": "execute_result",
          "data": {
            "text/plain": [
              "['Kenya', 'Vietnam', 'Japan', 'Brazil', 'France', 'Argentina', 'USA', 'Crotia']"
            ]
          },
          "metadata": {},
          "execution_count": 16
        }
      ]
    },
    {
      "cell_type": "code",
      "source": [
        "different_elements = ['Susan', ['shopping', 10, 'Saturday'],{'This is the key': '10'}]\n",
        "different_elements"
      ],
      "metadata": {
        "colab": {
          "base_uri": "https://localhost:8080/"
        },
        "id": "b66R7r51DXud",
        "outputId": "75089fc2-7732-45b2-836a-60a83873ceb1"
      },
      "execution_count": 17,
      "outputs": [
        {
          "output_type": "execute_result",
          "data": {
            "text/plain": [
              "['Susan', ['shopping', 10, 'Saturday'], {'This is the key': '10'}]"
            ]
          },
          "metadata": {},
          "execution_count": 17
        }
      ]
    },
    {
      "cell_type": "code",
      "source": [
        "for element in different_elements:\n",
        "  print(element)"
      ],
      "metadata": {
        "colab": {
          "base_uri": "https://localhost:8080/"
        },
        "id": "TgHfj3QyE-5j",
        "outputId": "94916f65-b0b4-4c62-da67-83247fbd9406"
      },
      "execution_count": 18,
      "outputs": [
        {
          "output_type": "stream",
          "name": "stdout",
          "text": [
            "Susan\n",
            "['shopping', 10, 'Saturday']\n",
            "{'This is the key': '10'}\n"
          ]
        }
      ]
    },
    {
      "cell_type": "code",
      "source": [
        "example_of_dictionary = {'first_name': 'mia', 'last_name':'Kebaso','age':27}\n",
        "example_of_dictionary"
      ],
      "metadata": {
        "colab": {
          "base_uri": "https://localhost:8080/"
        },
        "id": "AL9nRGEfFOU4",
        "outputId": "24221c05-e3b0-493d-b3d2-f3fb32606d3b"
      },
      "execution_count": 19,
      "outputs": [
        {
          "output_type": "execute_result",
          "data": {
            "text/plain": [
              "{'first_name': 'mia', 'last_name': 'Kebaso', 'age': 27}"
            ]
          },
          "metadata": {},
          "execution_count": 19
        }
      ]
    },
    {
      "cell_type": "code",
      "source": [
        "example_of_dictionary.items()"
      ],
      "metadata": {
        "colab": {
          "base_uri": "https://localhost:8080/"
        },
        "id": "i8cbG8QNGd0W",
        "outputId": "f4723b06-c210-462a-81db-4f675ab2f45e"
      },
      "execution_count": 20,
      "outputs": [
        {
          "output_type": "execute_result",
          "data": {
            "text/plain": [
              "dict_items([('first_name', 'mia'), ('last_name', 'Kebaso'), ('age', 27)])"
            ]
          },
          "metadata": {},
          "execution_count": 20
        }
      ]
    },
    {
      "cell_type": "code",
      "source": [
        "example_of_dictionary.keys()"
      ],
      "metadata": {
        "colab": {
          "base_uri": "https://localhost:8080/"
        },
        "id": "B6eXHD_-G1r3",
        "outputId": "3a322bbb-01fe-48f8-dfea-2bafaff4f6b1"
      },
      "execution_count": 21,
      "outputs": [
        {
          "output_type": "execute_result",
          "data": {
            "text/plain": [
              "dict_keys(['first_name', 'last_name', 'age'])"
            ]
          },
          "metadata": {},
          "execution_count": 21
        }
      ]
    },
    {
      "cell_type": "code",
      "source": [
        "example_of_dictionary.values()"
      ],
      "metadata": {
        "colab": {
          "base_uri": "https://localhost:8080/"
        },
        "id": "qKxSVkmBHMz2",
        "outputId": "e9a8d584-635c-4b8d-a20a-d4f28577723c"
      },
      "execution_count": 22,
      "outputs": [
        {
          "output_type": "execute_result",
          "data": {
            "text/plain": [
              "dict_values(['mia', 'Kebaso', 27])"
            ]
          },
          "metadata": {},
          "execution_count": 22
        }
      ]
    },
    {
      "cell_type": "code",
      "source": [
        "for key, value in example_of_dictionary.items():\n",
        "  print('this is the key:',key)\n",
        "  print('this is the value:', value,'\\n')"
      ],
      "metadata": {
        "colab": {
          "base_uri": "https://localhost:8080/"
        },
        "id": "RtbwZoilHPq-",
        "outputId": "f0539503-4af8-4718-a20d-3aaad56091ba"
      },
      "execution_count": 23,
      "outputs": [
        {
          "output_type": "stream",
          "name": "stdout",
          "text": [
            "this is the key: first_name\n",
            "this is the value: mia \n",
            "\n",
            "this is the key: last_name\n",
            "this is the value: Kebaso \n",
            "\n",
            "this is the key: age\n",
            "this is the value: 27 \n",
            "\n"
          ]
        }
      ]
    },
    {
      "cell_type": "code",
      "source": [
        "# last_name =''\n",
        "# first_name = ''\n",
        "for key,value in example_of_dictionary.items():\n",
        "  if key == 'first_name':\n",
        "    first_name = value.upper()\n",
        "  if key == 'last_name':\n",
        "    last_name = value.lower()\n",
        "print(first_name, last_name)\n"
      ],
      "metadata": {
        "colab": {
          "base_uri": "https://localhost:8080/"
        },
        "id": "oVahGE9TIXHY",
        "outputId": "a124c73c-cfc4-4162-c84a-9c7811b0ab23"
      },
      "execution_count": 24,
      "outputs": [
        {
          "output_type": "stream",
          "name": "stdout",
          "text": [
            "MIA kebaso\n"
          ]
        }
      ]
    },
    {
      "cell_type": "markdown",
      "source": [],
      "metadata": {
        "id": "UC-_YVGEtvYx"
      }
    },
    {
      "cell_type": "markdown",
      "source": [
        "WHILE LOOPS"
      ],
      "metadata": {
        "id": "pLGIqGJltzLX"
      }
    },
    {
      "cell_type": "markdown",
      "source": [
        "How to continue and break the loop"
      ],
      "metadata": {
        "id": "PpoZdUn7JyHk"
      }
    },
    {
      "cell_type": "code",
      "source": [
        "water_cans = 10\n",
        "cans_carried= 0\n",
        "\n",
        "for water_can in range(water_cans):\n",
        "  print('We have carried')\n",
        "  cans_carried +=1\n",
        "  print(f'{cans_carried} can')\n",
        "  # print(cans_carried)\n",
        "  # print(cans_carried,'cans so far')\n"
      ],
      "metadata": {
        "colab": {
          "base_uri": "https://localhost:8080/"
        },
        "id": "B7OkYSylJ32j",
        "outputId": "047361c1-2126-46d8-cceb-a932d0b9e47d"
      },
      "execution_count": 25,
      "outputs": [
        {
          "output_type": "stream",
          "name": "stdout",
          "text": [
            "We have carried\n",
            "1 can\n",
            "We have carried\n",
            "2 can\n",
            "We have carried\n",
            "3 can\n",
            "We have carried\n",
            "4 can\n",
            "We have carried\n",
            "5 can\n",
            "We have carried\n",
            "6 can\n",
            "We have carried\n",
            "7 can\n",
            "We have carried\n",
            "8 can\n",
            "We have carried\n",
            "9 can\n",
            "We have carried\n",
            "10 can\n"
          ]
        }
      ]
    },
    {
      "cell_type": "code",
      "source": [],
      "metadata": {
        "id": "lycELxhHMP21"
      },
      "execution_count": 25,
      "outputs": []
    },
    {
      "cell_type": "markdown",
      "source": [
        "FUNCTIONS"
      ],
      "metadata": {
        "id": "mdI2oLFOhMju"
      }
    },
    {
      "cell_type": "code",
      "source": [
        "def greet_people():\n",
        "  print('Habari')"
      ],
      "metadata": {
        "id": "kYzxW_lwhRk0"
      },
      "execution_count": 26,
      "outputs": []
    },
    {
      "cell_type": "code",
      "source": [
        "greet_people()"
      ],
      "metadata": {
        "colab": {
          "base_uri": "https://localhost:8080/"
        },
        "id": "jiBfVaMciQ44",
        "outputId": "3e3b9883-38ba-41d7-ec61-8b6c030b5d06"
      },
      "execution_count": 27,
      "outputs": [
        {
          "output_type": "stream",
          "name": "stdout",
          "text": [
            "Habari\n"
          ]
        }
      ]
    },
    {
      "cell_type": "code",
      "source": [
        "def calc (a,b):\n",
        "  return(a*b)"
      ],
      "metadata": {
        "id": "hRJ50WZWiT57"
      },
      "execution_count": 28,
      "outputs": []
    },
    {
      "cell_type": "code",
      "source": [
        "calc(2,5)"
      ],
      "metadata": {
        "colab": {
          "base_uri": "https://localhost:8080/"
        },
        "id": "6bsjRw7Ei6s6",
        "outputId": "5573f11c-4182-4767-b355-e5226808c157"
      },
      "execution_count": 29,
      "outputs": [
        {
          "output_type": "execute_result",
          "data": {
            "text/plain": [
              "10"
            ]
          },
          "metadata": {},
          "execution_count": 29
        }
      ]
    },
    {
      "cell_type": "code",
      "source": [
        "new_interns = ['Kelly', 'Fiona' , 'Susan']\n"
      ],
      "metadata": {
        "id": "LGYq6cZfi05m"
      },
      "execution_count": 30,
      "outputs": []
    },
    {
      "cell_type": "code",
      "source": [
        "# def greet_people(name):\n",
        "#   print('Habari', name)"
      ],
      "metadata": {
        "id": "muIado-3jx_t"
      },
      "execution_count": 31,
      "outputs": []
    },
    {
      "cell_type": "code",
      "source": [
        "# Defining a  function\n",
        "def greet_people():\n",
        "  welcome_message= []\n",
        "  for name in new_interns:\n",
        "    welcome_message.append('Habari' ' ' + name)\n",
        "  return welcome_message"
      ],
      "metadata": {
        "id": "ddD2tqakj81v"
      },
      "execution_count": 32,
      "outputs": []
    },
    {
      "cell_type": "code",
      "source": [
        "#Executing the function\n",
        "greet_people()"
      ],
      "metadata": {
        "colab": {
          "base_uri": "https://localhost:8080/"
        },
        "id": "EvsybxP9kC-a",
        "outputId": "1bba3e48-afd9-44dc-dbed-fb9ac724c643"
      },
      "execution_count": 33,
      "outputs": [
        {
          "output_type": "execute_result",
          "data": {
            "text/plain": [
              "['Habari Kelly', 'Habari Fiona', 'Habari Susan']"
            ]
          },
          "metadata": {},
          "execution_count": 33
        }
      ]
    },
    {
      "cell_type": "code",
      "source": [
        "travel_destination = ['argentina', 'mexico', 'italy', 'finland', 'canada', 'croatia']\n"
      ],
      "metadata": {
        "id": "IrTW7slMlILp"
      },
      "execution_count": 34,
      "outputs": []
    },
    {
      "cell_type": "code",
      "source": [
        "def number_of_destination():\n",
        "  return len(travel_destination)"
      ],
      "metadata": {
        "id": "ca3Gj87RsxRn"
      },
      "execution_count": 35,
      "outputs": []
    },
    {
      "cell_type": "code",
      "source": [
        "number_of_destination()"
      ],
      "metadata": {
        "colab": {
          "base_uri": "https://localhost:8080/"
        },
        "id": "vNo7LZSTs-1T",
        "outputId": "87e9579e-1aa4-45f6-cc6b-be68bfbd2ae2"
      },
      "execution_count": 36,
      "outputs": [
        {
          "output_type": "execute_result",
          "data": {
            "text/plain": [
              "6"
            ]
          },
          "metadata": {},
          "execution_count": 36
        }
      ]
    },
    {
      "cell_type": "code",
      "source": [
        "def next_up():\n",
        "  return travel_destination[0]"
      ],
      "metadata": {
        "id": "5jTqxVZytmwA"
      },
      "execution_count": 37,
      "outputs": []
    },
    {
      "cell_type": "code",
      "source": [
        "next_up()"
      ],
      "metadata": {
        "colab": {
          "base_uri": "https://localhost:8080/",
          "height": 35
        },
        "id": "x9vRAUm7uN7A",
        "outputId": "340722c3-e0cd-4ebb-98b0-129067f4c2b9"
      },
      "execution_count": 38,
      "outputs": [
        {
          "output_type": "execute_result",
          "data": {
            "text/plain": [
              "'argentina'"
            ],
            "application/vnd.google.colaboratory.intrinsic+json": {
              "type": "string"
            }
          },
          "metadata": {},
          "execution_count": 38
        }
      ]
    },
    {
      "cell_type": "code",
      "source": [
        "def favourite_destination():\n",
        "  return('Madagascar')"
      ],
      "metadata": {
        "id": "lRIiIDjnuQV8"
      },
      "execution_count": 39,
      "outputs": []
    },
    {
      "cell_type": "code",
      "source": [
        "favourite_destination()"
      ],
      "metadata": {
        "colab": {
          "base_uri": "https://localhost:8080/",
          "height": 35
        },
        "id": "np8FaGBOvO3a",
        "outputId": "6b5d07c3-dd31-44e6-b64a-cba4ff7cd590"
      },
      "execution_count": 40,
      "outputs": [
        {
          "output_type": "execute_result",
          "data": {
            "text/plain": [
              "'Madagascar'"
            ],
            "application/vnd.google.colaboratory.intrinsic+json": {
              "type": "string"
            }
          },
          "metadata": {},
          "execution_count": 40
        }
      ]
    },
    {
      "cell_type": "code",
      "source": [
        "def add_favourite_destination ():\n",
        "  travel_destination.append(favourite_destination())\n",
        "  return travel_destination[-1]"
      ],
      "metadata": {
        "id": "OeBBFLzcvXQo"
      },
      "execution_count": 41,
      "outputs": []
    },
    {
      "cell_type": "code",
      "source": [
        "add_favourite_destination()"
      ],
      "metadata": {
        "colab": {
          "base_uri": "https://localhost:8080/",
          "height": 35
        },
        "id": "bm70yFzRwMm_",
        "outputId": "e89e1543-551e-4dc6-e3b9-7d716701e31c"
      },
      "execution_count": 42,
      "outputs": [
        {
          "output_type": "execute_result",
          "data": {
            "text/plain": [
              "'Madagascar'"
            ],
            "application/vnd.google.colaboratory.intrinsic+json": {
              "type": "string"
            }
          },
          "metadata": {},
          "execution_count": 42
        }
      ]
    },
    {
      "cell_type": "code",
      "source": [
        "def capitalize_countries():\n",
        "  for index in range(len(travel_destination)):\n",
        "    travel_destination[index] = travel_destination[index].capitalize()\n",
        "  return travel_destination"
      ],
      "metadata": {
        "id": "tq2Bh2EZwVun"
      },
      "execution_count": 43,
      "outputs": []
    },
    {
      "cell_type": "code",
      "source": [
        "capitalize_countries()"
      ],
      "metadata": {
        "colab": {
          "base_uri": "https://localhost:8080/"
        },
        "id": "cL-EitoYw10g",
        "outputId": "7e259205-e18b-4e12-fff8-461b2e093e38"
      },
      "execution_count": 44,
      "outputs": [
        {
          "output_type": "execute_result",
          "data": {
            "text/plain": [
              "['Argentina', 'Mexico', 'Italy', 'Finland', 'Canada', 'Croatia', 'Madagascar']"
            ]
          },
          "metadata": {},
          "execution_count": 44
        }
      ]
    },
    {
      "cell_type": "code",
      "source": [
        "def meet(name):\n",
        "  print('Jina langu ni' + ' ' + name)"
      ],
      "metadata": {
        "id": "Z0HPKSJFw7JY"
      },
      "execution_count": 45,
      "outputs": []
    },
    {
      "cell_type": "code",
      "source": [
        "meet('Mylo')"
      ],
      "metadata": {
        "colab": {
          "base_uri": "https://localhost:8080/"
        },
        "id": "9Gc7NPLI1UHq",
        "outputId": "1163a65b-ca37-428a-eca9-ddb3669ff3cc"
      },
      "execution_count": 46,
      "outputs": [
        {
          "output_type": "stream",
          "name": "stdout",
          "text": [
            "Jina langu ni Mylo\n"
          ]
        }
      ]
    },
    {
      "cell_type": "code",
      "source": [
        "def find_the_mean(list_of_numbers):\n",
        "  n= len(list_of_numbers)\n",
        "  summation = sum(list_of_numbers)\n",
        "  mean = summation/n\n",
        "  return mean\n"
      ],
      "metadata": {
        "id": "9pTsXJOl1Y_q"
      },
      "execution_count": 47,
      "outputs": []
    },
    {
      "cell_type": "code",
      "source": [
        "find_the_mean([1,2,3,4,5,6,7,8,9,10])"
      ],
      "metadata": {
        "colab": {
          "base_uri": "https://localhost:8080/"
        },
        "id": "sXXx_VYe3H2v",
        "outputId": "58581efc-f24e-4d33-a051-c9f24c4a0205"
      },
      "execution_count": 48,
      "outputs": [
        {
          "output_type": "execute_result",
          "data": {
            "text/plain": [
              "5.5"
            ]
          },
          "metadata": {},
          "execution_count": 48
        }
      ]
    },
    {
      "cell_type": "code",
      "source": [
        "area_one_pops = [10453, 12383, 8034, 800835, 76434, 32394]\n",
        "find_the_mean(area_one_pops)"
      ],
      "metadata": {
        "colab": {
          "base_uri": "https://localhost:8080/"
        },
        "id": "J2urvZ6N3Jxq",
        "outputId": "c4e96cb6-3d66-4ccf-f8c5-23a86f183b65"
      },
      "execution_count": 49,
      "outputs": [
        {
          "output_type": "execute_result",
          "data": {
            "text/plain": [
              "156755.5"
            ]
          },
          "metadata": {},
          "execution_count": 49
        }
      ]
    },
    {
      "cell_type": "code",
      "source": [
        "area_two_pops = [43845, 54930, 59354, 96403, 73492, 729320]\n",
        "find_the_mean(area_two_pops)"
      ],
      "metadata": {
        "colab": {
          "base_uri": "https://localhost:8080/"
        },
        "id": "3RD4V_7r5Inq",
        "outputId": "61b1703c-bc73-4454-8713-8145030b04d0"
      },
      "execution_count": 50,
      "outputs": [
        {
          "output_type": "execute_result",
          "data": {
            "text/plain": [
              "176224.0"
            ]
          },
          "metadata": {},
          "execution_count": 50
        }
      ]
    },
    {
      "cell_type": "code",
      "source": [
        "def find_largest_pop(area_one_pops,area_two_pops):\n",
        "  mean_one = find_the_mean(area_one_pops)\n",
        "def find_largest_pop(area_one_pops,area_two_pops):\n",
        "  mean_one = find_the_mean(area_one_pops)\n",
        "  mean_two = find_the_mean(area_two_pops)\n",
        "  if mean_one > mean_two:\n",
        "    return ('Population One is larger', area_one_pops)\n",
        "  else:\n",
        "    return ('Population Two is larger', area_two_pops)"
      ],
      "metadata": {
        "id": "CfVlH5pG5O5m"
      },
      "execution_count": 51,
      "outputs": []
    },
    {
      "cell_type": "code",
      "source": [
        "find_largest_pop(area_one_pops,area_two_pops)"
      ],
      "metadata": {
        "colab": {
          "base_uri": "https://localhost:8080/"
        },
        "id": "9riaP_Cz5_dB",
        "outputId": "e02ce031-b620-4134-bdb6-bf61571af6bb"
      },
      "execution_count": 52,
      "outputs": [
        {
          "output_type": "execute_result",
          "data": {
            "text/plain": [
              "('Population Two is larger', [43845, 54930, 59354, 96403, 73492, 729320])"
            ]
          },
          "metadata": {},
          "execution_count": 52
        }
      ]
    },
    {
      "cell_type": "code",
      "source": [],
      "metadata": {
        "id": "qDakTEfZ-vEl"
      },
      "execution_count": 52,
      "outputs": []
    },
    {
      "cell_type": "markdown",
      "source": [
        "NumPY (NUMERICAL PYTHON)"
      ],
      "metadata": {
        "id": "MSddo05A-xrh"
      }
    },
    {
      "cell_type": "code",
      "source": [
        "# pip install is the package manager\n",
        "\n",
        "import numpy as np"
      ],
      "metadata": {
        "id": "_pqnOCzA6QJy"
      },
      "execution_count": 53,
      "outputs": []
    },
    {
      "cell_type": "code",
      "source": [
        "learn_array = np.array([1,2,3,4,5,6,7])"
      ],
      "metadata": {
        "id": "VfkeKduc9itL"
      },
      "execution_count": 54,
      "outputs": []
    },
    {
      "cell_type": "code",
      "source": [
        "learn_array"
      ],
      "metadata": {
        "colab": {
          "base_uri": "https://localhost:8080/"
        },
        "id": "-VpV6qE_BKt6",
        "outputId": "688d5eed-f287-4809-f276-e422aefb1f4b"
      },
      "execution_count": 55,
      "outputs": [
        {
          "output_type": "execute_result",
          "data": {
            "text/plain": [
              "array([1, 2, 3, 4, 5, 6, 7])"
            ]
          },
          "metadata": {},
          "execution_count": 55
        }
      ]
    },
    {
      "cell_type": "code",
      "source": [
        "type(learn_array)"
      ],
      "metadata": {
        "colab": {
          "base_uri": "https://localhost:8080/"
        },
        "id": "gxKbV6DeBM27",
        "outputId": "ca625bb6-9660-44f1-b2db-cef3bb1a8630"
      },
      "execution_count": 56,
      "outputs": [
        {
          "output_type": "execute_result",
          "data": {
            "text/plain": [
              "numpy.ndarray"
            ]
          },
          "metadata": {},
          "execution_count": 56
        }
      ]
    },
    {
      "cell_type": "code",
      "source": [
        "example_array =[1,2,3,4]"
      ],
      "metadata": {
        "id": "pBOy7oMhBXfd"
      },
      "execution_count": 57,
      "outputs": []
    },
    {
      "cell_type": "code",
      "source": [
        "example_array+3"
      ],
      "metadata": {
        "colab": {
          "base_uri": "https://localhost:8080/",
          "height": 144
        },
        "id": "U-IzLNTyCvVj",
        "outputId": "86863106-281f-4540-efd2-4a41aa408a4e"
      },
      "execution_count": 58,
      "outputs": [
        {
          "output_type": "error",
          "ename": "TypeError",
          "evalue": "can only concatenate list (not \"int\") to list",
          "traceback": [
            "\u001b[0;31m---------------------------------------------------------------------------\u001b[0m",
            "\u001b[0;31mTypeError\u001b[0m                                 Traceback (most recent call last)",
            "\u001b[0;32m<ipython-input-58-01baad92cef0>\u001b[0m in \u001b[0;36m<cell line: 1>\u001b[0;34m()\u001b[0m\n\u001b[0;32m----> 1\u001b[0;31m \u001b[0mexample_array\u001b[0m\u001b[0;34m+\u001b[0m\u001b[0;36m3\u001b[0m\u001b[0;34m\u001b[0m\u001b[0;34m\u001b[0m\u001b[0m\n\u001b[0m",
            "\u001b[0;31mTypeError\u001b[0m: can only concatenate list (not \"int\") to list"
          ]
        }
      ]
    },
    {
      "cell_type": "code",
      "source": [
        "example_array + [3]"
      ],
      "metadata": {
        "colab": {
          "base_uri": "https://localhost:8080/"
        },
        "id": "WbUAccOmCzJS",
        "outputId": "52242590-cc8d-4d45-a00a-c9cc2b553931"
      },
      "execution_count": 59,
      "outputs": [
        {
          "output_type": "execute_result",
          "data": {
            "text/plain": [
              "[1, 2, 3, 4, 3]"
            ]
          },
          "metadata": {},
          "execution_count": 59
        }
      ]
    },
    {
      "cell_type": "code",
      "source": [
        "numpy_arr = np.array(example_array)"
      ],
      "metadata": {
        "id": "6zumPEi6C6Zh"
      },
      "execution_count": 60,
      "outputs": []
    },
    {
      "cell_type": "code",
      "source": [
        "numpy_arr + 60"
      ],
      "metadata": {
        "colab": {
          "base_uri": "https://localhost:8080/"
        },
        "id": "bVTH9oYVDZWx",
        "outputId": "dab2f4c9-c9ac-4cd9-ec03-4df2ce585b1e"
      },
      "execution_count": 61,
      "outputs": [
        {
          "output_type": "execute_result",
          "data": {
            "text/plain": [
              "array([61, 62, 63, 64])"
            ]
          },
          "metadata": {},
          "execution_count": 61
        }
      ]
    },
    {
      "cell_type": "code",
      "source": [
        "length = np.array([9, 8,7,6,5,4])\n",
        "width =np.array([9,8,7,6,5,4])\n"
      ],
      "metadata": {
        "id": "H8TE3Xs_DgwQ"
      },
      "execution_count": 62,
      "outputs": []
    },
    {
      "cell_type": "code",
      "source": [
        "area = length * width\n",
        "area"
      ],
      "metadata": {
        "colab": {
          "base_uri": "https://localhost:8080/"
        },
        "id": "LiEgwocpFHSZ",
        "outputId": "b0707edd-3209-4b25-d035-de7a208c87d1"
      },
      "execution_count": 63,
      "outputs": [
        {
          "output_type": "execute_result",
          "data": {
            "text/plain": [
              "array([81, 64, 49, 36, 25, 16])"
            ]
          },
          "metadata": {},
          "execution_count": 63
        }
      ]
    },
    {
      "cell_type": "code",
      "source": [
        "import time\n",
        "\n",
        "# Using 1 million integers\n",
        "huge_list_of_integers = list(range(0, 1000000))\n",
        "huge_np_array_of_integers = np.array(huge_list_of_integers)\n",
        "\n",
        "def add_one(list_of_ints):\n",
        "    return [num + 1 for num in list_of_ints]\n",
        "\n",
        "\n",
        "start_time = time.perf_counter() # Time when operation starts\n",
        "add_one(huge_list_of_integers) # Adds 1 to each number in the list of integers above\n",
        "end_time = time.perf_counter() # Time when operation finishes\n",
        "total_time = (end_time - start_time) # Total time for operation\n",
        "start_time_with_np = time.perf_counter() # Time when operation starts\n",
        "huge_np_array_of_integers + 1 # Adds 1 to each number in the array of integers\n",
        "end_time_with_np = time.perf_counter() # Time when operation finishes\n",
        "total_time_with_np = (end_time_with_np - start_time_with_np) # Total time for operation\n",
        "\n",
        "print('Time it takes to add 1 to each element in a list without NumPy:', total_time)\n",
        "print('Time it takes to add 1 to each element in a list with NumPy:', total_time_with_np)\n",
        "\n",
        "percent_faster = int((((total_time - total_time_with_np)/total_time)*100))\n",
        "print('NumPy completes the operation', percent_faster, '% faster than a traditional list')"
      ],
      "metadata": {
        "colab": {
          "base_uri": "https://localhost:8080/"
        },
        "id": "Gbd11CGDFMFZ",
        "outputId": "ad6ab844-bf8e-4f7d-b0c8-71712efb4f76"
      },
      "execution_count": 64,
      "outputs": [
        {
          "output_type": "stream",
          "name": "stdout",
          "text": [
            "Time it takes to add 1 to each element in a list without NumPy: 0.09163871399999834\n",
            "Time it takes to add 1 to each element in a list with NumPy: 0.01592287799999781\n",
            "NumPy completes the operation 82 % faster than a traditional list\n"
          ]
        }
      ]
    },
    {
      "cell_type": "code",
      "source": [],
      "metadata": {
        "id": "RQreONJvnfwr"
      },
      "execution_count": 64,
      "outputs": []
    },
    {
      "cell_type": "markdown",
      "source": [
        "**Getting started with Numerical Python**"
      ],
      "metadata": {
        "id": "LC6IZSMVnc1K"
      }
    },
    {
      "cell_type": "code",
      "source": [
        "x = [3,6,9]"
      ],
      "metadata": {
        "id": "Q9QI1B1jnbml"
      },
      "execution_count": 65,
      "outputs": []
    },
    {
      "cell_type": "code",
      "source": [
        "x = np.array([3,6,9])\n",
        "print(type(x))"
      ],
      "metadata": {
        "colab": {
          "base_uri": "https://localhost:8080/"
        },
        "id": "h6xmvT9EnF7u",
        "outputId": "5b113072-caa5-4bd6-887e-9f50c6ab26b7"
      },
      "execution_count": 66,
      "outputs": [
        {
          "output_type": "stream",
          "name": "stdout",
          "text": [
            "<class 'numpy.ndarray'>\n"
          ]
        }
      ]
    },
    {
      "cell_type": "code",
      "source": [
        "# List of numbers\n",
        "x=[3,5,8,12,15,18,20,22,25,30,50,80,687]"
      ],
      "metadata": {
        "id": "EN5EobvNnkHh"
      },
      "execution_count": 67,
      "outputs": []
    },
    {
      "cell_type": "code",
      "source": [
        "x=sorted(x)"
      ],
      "metadata": {
        "id": "QyohwA9r4jRC"
      },
      "execution_count": 68,
      "outputs": []
    },
    {
      "cell_type": "code",
      "source": [
        "distance = len(x)-1\n",
        "distance"
      ],
      "metadata": {
        "colab": {
          "base_uri": "https://localhost:8080/"
        },
        "id": "z21FIFfs4oH6",
        "outputId": "835b712f-0ec6-40f3-93bc-6296c657665b"
      },
      "execution_count": 69,
      "outputs": [
        {
          "output_type": "execute_result",
          "data": {
            "text/plain": [
              "12"
            ]
          },
          "metadata": {},
          "execution_count": 69
        }
      ]
    },
    {
      "cell_type": "code",
      "source": [
        "index_p25 = 0.25 * distance\n",
        "index_p25"
      ],
      "metadata": {
        "colab": {
          "base_uri": "https://localhost:8080/"
        },
        "id": "0LhPuHR14wCu",
        "outputId": "68099ac4-5387-4f80-ed7b-fdc8c7a97563"
      },
      "execution_count": 70,
      "outputs": [
        {
          "output_type": "execute_result",
          "data": {
            "text/plain": [
              "3.0"
            ]
          },
          "metadata": {},
          "execution_count": 70
        }
      ]
    },
    {
      "cell_type": "code",
      "source": [
        "index_p75 = 0.75 * distance\n",
        "index_p75"
      ],
      "metadata": {
        "colab": {
          "base_uri": "https://localhost:8080/"
        },
        "id": "oNnfw0J35Cmq",
        "outputId": "e20c9a14-ee6e-471c-a797-9856a40ca8b3"
      },
      "execution_count": 71,
      "outputs": [
        {
          "output_type": "execute_result",
          "data": {
            "text/plain": [
              "9.0"
            ]
          },
          "metadata": {},
          "execution_count": 71
        }
      ]
    },
    {
      "cell_type": "code",
      "source": [
        "p25 = x[int(index_p25)]\n",
        "p25"
      ],
      "metadata": {
        "colab": {
          "base_uri": "https://localhost:8080/"
        },
        "id": "6VVfbZ305cjd",
        "outputId": "1acdc5b3-7553-4dfe-ee91-a2a8eda039b9"
      },
      "execution_count": 72,
      "outputs": [
        {
          "output_type": "execute_result",
          "data": {
            "text/plain": [
              "12"
            ]
          },
          "metadata": {},
          "execution_count": 72
        }
      ]
    },
    {
      "cell_type": "code",
      "source": [
        "p75 = x[int(index_p75)]\n",
        "p75"
      ],
      "metadata": {
        "colab": {
          "base_uri": "https://localhost:8080/"
        },
        "id": "Wu5Gkoq16HNl",
        "outputId": "50fd0dd8-8a24-4586-a391-4b67617def81"
      },
      "execution_count": 73,
      "outputs": [
        {
          "output_type": "execute_result",
          "data": {
            "text/plain": [
              "30"
            ]
          },
          "metadata": {},
          "execution_count": 73
        }
      ]
    },
    {
      "cell_type": "code",
      "source": [
        "iqr = p75 - p25\n",
        "iqr"
      ],
      "metadata": {
        "colab": {
          "base_uri": "https://localhost:8080/"
        },
        "id": "kky_OwUJ60we",
        "outputId": "6025290a-8b5c-431e-90d6-45be7e2783b8"
      },
      "execution_count": 74,
      "outputs": [
        {
          "output_type": "execute_result",
          "data": {
            "text/plain": [
              "18"
            ]
          },
          "metadata": {},
          "execution_count": 74
        }
      ]
    },
    {
      "cell_type": "code",
      "source": [
        "import numpy as np\n",
        "np.percentile(x, 75) - np.percentile(x, 25)"
      ],
      "metadata": {
        "colab": {
          "base_uri": "https://localhost:8080/"
        },
        "id": "rpWu3RJ46TlW",
        "outputId": "e466ccfb-d9e0-409f-fcfd-2bfbefc7a193"
      },
      "execution_count": 75,
      "outputs": [
        {
          "output_type": "execute_result",
          "data": {
            "text/plain": [
              "18.0"
            ]
          },
          "metadata": {},
          "execution_count": 75
        }
      ]
    },
    {
      "cell_type": "code",
      "source": [
        "import matplotlib.pyplot as plt\n",
        "%matplotlib inline\n",
        "\n",
        "plt.style.use('ggplot') # for viewing a grid on plot\n",
        "x = [20,34,50, 52, 54, 55, 56, 57, 57, 58, 58, 60,81]\n",
        "plt.boxplot(x)\n",
        "plt.title (\"Retirement Age Box Plot\")\n",
        "plt.show()"
      ],
      "metadata": {
        "id": "OR0bykIf8VbK",
        "colab": {
          "base_uri": "https://localhost:8080/",
          "height": 453
        },
        "outputId": "01d6d8fe-9e52-496f-a811-4b807ab841a6"
      },
      "execution_count": 80,
      "outputs": [
        {
          "output_type": "display_data",
          "data": {
            "text/plain": [
              "<Figure size 640x480 with 1 Axes>"
            ],
            "image/png": "[encoded data removed]"
          },
          "metadata": {}
        }
      ]
    },
    {
      "cell_type": "code",
      "source": [],
      "metadata": {
        "id": "P0Ybrh77zUpw"
      },
      "execution_count": null,
      "outputs": []
    }
  ]
}