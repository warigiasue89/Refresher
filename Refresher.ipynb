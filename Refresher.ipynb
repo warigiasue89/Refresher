{
  "nbformat": 4,
  "nbformat_minor": 0,
  "metadata": {
    "colab": {
      "provenance": [],
      "authorship_tag": "ABX9TyPoAe59iW9v9KpREh0K/ODe",
      "include_colab_link": true
    },
    "kernelspec": {
      "name": "python3",
      "display_name": "Python 3"
    },
    "language_info": {
      "name": "python"
    }
  },
  "cells": [
    {
      "cell_type": "markdown",
      "metadata": {
        "id": "view-in-github",
        "colab_type": "text"
      },
      "source": [
        "<a href=\"https://colab.research.google.com/github/warigiasue89/Refresher/blob/master/Refresher.ipynb\" target=\"_parent\"><img src=\"https://colab.research.google.com/assets/colab-badge.svg\" alt=\"Open In Colab\"/></a>"
      ]
    },
    {
      "cell_type": "code",
      "execution_count": 3,
      "metadata": {
        "id": "UVPQGXav3t8_"
      },
      "outputs": [],
      "source": [
        "import pandas as pd"
      ]
    },
    {
      "cell_type": "code",
      "source": [
        "import numpy as np\n",
        "import matplotlib.pyplot as plt"
      ],
      "metadata": {
        "id": "O6H8lIdO5lqF"
      },
      "execution_count": 4,
      "outputs": []
    },
    {
      "cell_type": "code",
      "source": [
        "learning = list(['orange','pineapple','mango'])\n",
        "learning"
      ],
      "metadata": {
        "colab": {
          "base_uri": "https://localhost:8080/"
        },
        "id": "-Se-bPI55-FD",
        "outputId": "9cb0898e-5147-4c3b-e9d3-7b62e1eafcd3"
      },
      "execution_count": 5,
      "outputs": [
        {
          "output_type": "execute_result",
          "data": {
            "text/plain": [
              "['orange', 'pineapple', 'mango']"
            ]
          },
          "metadata": {},
          "execution_count": 5
        }
      ]
    },
    {
      "cell_type": "code",
      "source": [
        "iteration = 2\n",
        "for i in learning:\n",
        "  iteration +=2\n",
        "  print('iteration number:', iteration)\n",
        "  print (i)\n",
        "print ('is not in the for loop')"
      ],
      "metadata": {
        "colab": {
          "base_uri": "https://localhost:8080/"
        },
        "id": "4_p2F1nf9q59",
        "outputId": "fe415613-d866-4a76-80ab-ab79f35df1b0"
      },
      "execution_count": 6,
      "outputs": [
        {
          "output_type": "stream",
          "name": "stdout",
          "text": [
            "iteration number: 4\n",
            "orange\n",
            "iteration number: 6\n",
            "pineapple\n",
            "iteration number: 8\n",
            "mango\n",
            "is not in the for loop\n"
          ]
        }
      ]
    },
    {
      "cell_type": "code",
      "source": [
        "for fruits in learning:\n",
        "  print (fruits)"
      ],
      "metadata": {
        "colab": {
          "base_uri": "https://localhost:8080/"
        },
        "id": "J-ek-rEk6PeC",
        "outputId": "882e18de-98b4-45ab-c652-f5a70e406a4e"
      },
      "execution_count": 7,
      "outputs": [
        {
          "output_type": "stream",
          "name": "stdout",
          "text": [
            "orange\n",
            "pineapple\n",
            "mango\n"
          ]
        }
      ]
    },
    {
      "cell_type": "code",
      "source": [
        "countries= ['Crotia', 'USA', 'Argentina', 'France', 'Brazil', 'Japan','Vietnam']\n",
        "countries"
      ],
      "metadata": {
        "colab": {
          "base_uri": "https://localhost:8080/"
        },
        "id": "25ZMxyraA2t1",
        "outputId": "ea6154ec-ae7c-41d5-e9bf-1b767b04f41a"
      },
      "execution_count": 8,
      "outputs": [
        {
          "output_type": "execute_result",
          "data": {
            "text/plain": [
              "['Crotia', 'USA', 'Argentina', 'France', 'Brazil', 'Japan', 'Vietnam']"
            ]
          },
          "metadata": {},
          "execution_count": 8
        }
      ]
    },
    {
      "cell_type": "code",
      "source": [
        "for index in range(len(countries)):\n",
        "  print(index)\n",
        "  print(countries[index])"
      ],
      "metadata": {
        "colab": {
          "base_uri": "https://localhost:8080/"
        },
        "id": "UkhIUOjBBXVc",
        "outputId": "1f2adfed-6393-4d8d-dbf1-0b7ed9362290"
      },
      "execution_count": 9,
      "outputs": [
        {
          "output_type": "stream",
          "name": "stdout",
          "text": [
            "0\n",
            "Crotia\n",
            "1\n",
            "USA\n",
            "2\n",
            "Argentina\n",
            "3\n",
            "France\n",
            "4\n",
            "Brazil\n",
            "5\n",
            "Japan\n",
            "6\n",
            "Vietnam\n"
          ]
        }
      ]
    },
    {
      "cell_type": "code",
      "source": [
        "countries= ['Crotia', 'USA', 'Argentina', 'France', 'Brazil', 'Japan','Vietnam']\n",
        "cities = ['Zagreb', 'District of Columbia', 'Buenos Aires', 'Paris', 'Rio de Janeiro', 'Tokyo', 'Hanoi']"
      ],
      "metadata": {
        "id": "kf3miD5SDiA6"
      },
      "execution_count": 10,
      "outputs": []
    },
    {
      "cell_type": "code",
      "source": [
        "for index in range(len(countries)):\n",
        "  print(cities[index],\",\", countries[index])"
      ],
      "metadata": {
        "colab": {
          "base_uri": "https://localhost:8080/"
        },
        "id": "SqnPnSrlDhm-",
        "outputId": "ed5f2dc0-e295-4e30-d9f1-bcbed951fd97"
      },
      "execution_count": 11,
      "outputs": [
        {
          "output_type": "stream",
          "name": "stdout",
          "text": [
            "Zagreb , Crotia\n",
            "District of Columbia , USA\n",
            "Buenos Aires , Argentina\n",
            "Paris , France\n",
            "Rio de Janeiro , Brazil\n",
            "Tokyo , Japan\n",
            "Hanoi , Vietnam\n"
          ]
        }
      ]
    },
    {
      "cell_type": "code",
      "source": [
        "# for index in range(8):\n",
        "#    print(cities[index],\",\", countries[index])"
      ],
      "metadata": {
        "id": "JhXOJB-u6_UD"
      },
      "execution_count": 12,
      "outputs": []
    },
    {
      "cell_type": "code",
      "source": [
        "range(len(countries))"
      ],
      "metadata": {
        "colab": {
          "base_uri": "https://localhost:8080/"
        },
        "id": "P8HklTuU8nX2",
        "outputId": "603a3da7-d5f4-482e-c8d2-a3283d51abfc"
      },
      "execution_count": 13,
      "outputs": [
        {
          "output_type": "execute_result",
          "data": {
            "text/plain": [
              "range(0, 7)"
            ]
          },
          "metadata": {},
          "execution_count": 13
        }
      ]
    },
    {
      "cell_type": "code",
      "source": [
        "list (range(len(countries)))"
      ],
      "metadata": {
        "colab": {
          "base_uri": "https://localhost:8080/"
        },
        "id": "B85qhuJE8mcY",
        "outputId": "c3f0aa53-b9ed-4282-a84d-b9f60c9ad0f4"
      },
      "execution_count": 14,
      "outputs": [
        {
          "output_type": "execute_result",
          "data": {
            "text/plain": [
              "[0, 1, 2, 3, 4, 5, 6]"
            ]
          },
          "metadata": {},
          "execution_count": 14
        }
      ]
    },
    {
      "cell_type": "code",
      "source": [
        "for index in list(range(len(countries))):\n",
        "  print(cities[index],\",\",countries[index])\n"
      ],
      "metadata": {
        "colab": {
          "base_uri": "https://localhost:8080/"
        },
        "id": "l0cmDlFd9xsh",
        "outputId": "6885a723-efaf-4f46-f009-b42bcc12c090"
      },
      "execution_count": 15,
      "outputs": [
        {
          "output_type": "stream",
          "name": "stdout",
          "text": [
            "Zagreb , Crotia\n",
            "District of Columbia , USA\n",
            "Buenos Aires , Argentina\n",
            "Paris , France\n",
            "Rio de Janeiro , Brazil\n",
            "Tokyo , Japan\n",
            "Hanoi , Vietnam\n"
          ]
        }
      ]
    },
    {
      "cell_type": "code",
      "source": [
        "countries.append ('Kenya')\n",
        "cities.append ('Nairobi')\n",
        "for index in list(range(len(countries))):\n",
        "  print(cities[index],\",\",countries[index])"
      ],
      "metadata": {
        "colab": {
          "base_uri": "https://localhost:8080/"
        },
        "id": "nal_EqLS-QSG",
        "outputId": "feead513-af12-431a-f7c6-c589c8f0e022"
      },
      "execution_count": 16,
      "outputs": [
        {
          "output_type": "stream",
          "name": "stdout",
          "text": [
            "Zagreb , Crotia\n",
            "District of Columbia , USA\n",
            "Buenos Aires , Argentina\n",
            "Paris , France\n",
            "Rio de Janeiro , Brazil\n",
            "Tokyo , Japan\n",
            "Hanoi , Vietnam\n",
            "Nairobi , Kenya\n"
          ]
        }
      ]
    },
    {
      "cell_type": "code",
      "source": [
        "countries.reverse()\n"
      ],
      "metadata": {
        "id": "NwOxAsLC_hJS"
      },
      "execution_count": 17,
      "outputs": []
    },
    {
      "cell_type": "code",
      "source": [
        "countries"
      ],
      "metadata": {
        "colab": {
          "base_uri": "https://localhost:8080/"
        },
        "id": "zb3qWOlMA0Mp",
        "outputId": "c4ba16ff-de2e-4a81-bae7-66708c037e57"
      },
      "execution_count": 18,
      "outputs": [
        {
          "output_type": "execute_result",
          "data": {
            "text/plain": [
              "['Kenya', 'Vietnam', 'Japan', 'Brazil', 'France', 'Argentina', 'USA', 'Crotia']"
            ]
          },
          "metadata": {},
          "execution_count": 18
        }
      ]
    },
    {
      "cell_type": "code",
      "source": [
        "different_elements = ['Susan', ['shopping', 10, 'Saturday'],{'This is the key': '10'}]\n",
        "different_elements"
      ],
      "metadata": {
        "colab": {
          "base_uri": "https://localhost:8080/"
        },
        "id": "b66R7r51DXud",
        "outputId": "f676da2f-18c0-413e-b151-7b592472af9a"
      },
      "execution_count": 19,
      "outputs": [
        {
          "output_type": "execute_result",
          "data": {
            "text/plain": [
              "['Susan', ['shopping', 10, 'Saturday'], {'This is the key': '10'}]"
            ]
          },
          "metadata": {},
          "execution_count": 19
        }
      ]
    },
    {
      "cell_type": "code",
      "source": [
        "for element in different_elements:\n",
        "  print(element)"
      ],
      "metadata": {
        "colab": {
          "base_uri": "https://localhost:8080/"
        },
        "id": "TgHfj3QyE-5j",
        "outputId": "3a5bc00f-2a2d-43c3-f2f7-70ea9c6de901"
      },
      "execution_count": 20,
      "outputs": [
        {
          "output_type": "stream",
          "name": "stdout",
          "text": [
            "Susan\n",
            "['shopping', 10, 'Saturday']\n",
            "{'This is the key': '10'}\n"
          ]
        }
      ]
    },
    {
      "cell_type": "code",
      "source": [
        "example_of_dictionary = {'first_name': 'mia', 'last_name':'Kebaso','age':27}\n",
        "example_of_dictionary"
      ],
      "metadata": {
        "colab": {
          "base_uri": "https://localhost:8080/"
        },
        "id": "AL9nRGEfFOU4",
        "outputId": "efe408ed-777c-44d9-89c8-fc2a4fb65a42"
      },
      "execution_count": 21,
      "outputs": [
        {
          "output_type": "execute_result",
          "data": {
            "text/plain": [
              "{'first_name': 'mia', 'last_name': 'Kebaso', 'age': 27}"
            ]
          },
          "metadata": {},
          "execution_count": 21
        }
      ]
    },
    {
      "cell_type": "code",
      "source": [
        "example_of_dictionary.items()"
      ],
      "metadata": {
        "colab": {
          "base_uri": "https://localhost:8080/"
        },
        "id": "i8cbG8QNGd0W",
        "outputId": "b95956b0-1894-4516-ac03-278bf76ab584"
      },
      "execution_count": 22,
      "outputs": [
        {
          "output_type": "execute_result",
          "data": {
            "text/plain": [
              "dict_items([('first_name', 'mia'), ('last_name', 'Kebaso'), ('age', 27)])"
            ]
          },
          "metadata": {},
          "execution_count": 22
        }
      ]
    },
    {
      "cell_type": "code",
      "source": [
        "example_of_dictionary.keys()"
      ],
      "metadata": {
        "colab": {
          "base_uri": "https://localhost:8080/"
        },
        "id": "B6eXHD_-G1r3",
        "outputId": "07833b6a-46b2-48c3-eb1f-3cbbedf19e60"
      },
      "execution_count": 23,
      "outputs": [
        {
          "output_type": "execute_result",
          "data": {
            "text/plain": [
              "dict_keys(['first_name', 'last_name', 'age'])"
            ]
          },
          "metadata": {},
          "execution_count": 23
        }
      ]
    },
    {
      "cell_type": "code",
      "source": [
        "example_of_dictionary.values()"
      ],
      "metadata": {
        "colab": {
          "base_uri": "https://localhost:8080/"
        },
        "id": "qKxSVkmBHMz2",
        "outputId": "c0f783c3-c927-4f6e-a81e-6c9ebf8de412"
      },
      "execution_count": 24,
      "outputs": [
        {
          "output_type": "execute_result",
          "data": {
            "text/plain": [
              "dict_values(['mia', 'Kebaso', 27])"
            ]
          },
          "metadata": {},
          "execution_count": 24
        }
      ]
    },
    {
      "cell_type": "code",
      "source": [
        "for key, value in example_of_dictionary.items():\n",
        "  print('this is the key:',key)\n",
        "  print('this is the value:', value,'\\n')"
      ],
      "metadata": {
        "colab": {
          "base_uri": "https://localhost:8080/"
        },
        "id": "RtbwZoilHPq-",
        "outputId": "9d41d9ff-4a5a-4376-ed08-12876ec55f4b"
      },
      "execution_count": 25,
      "outputs": [
        {
          "output_type": "stream",
          "name": "stdout",
          "text": [
            "this is the key: first_name\n",
            "this is the value: mia \n",
            "\n",
            "this is the key: last_name\n",
            "this is the value: Kebaso \n",
            "\n",
            "this is the key: age\n",
            "this is the value: 27 \n",
            "\n"
          ]
        }
      ]
    },
    {
      "cell_type": "code",
      "source": [
        "# last_name =''\n",
        "# first_name = ''\n",
        "for key,value in example_of_dictionary.items():\n",
        "  if key == 'first_name':\n",
        "    first_name = value.upper()\n",
        "  if key == 'last_name':\n",
        "    last_name = value.lower()\n",
        "print(first_name, last_name)\n"
      ],
      "metadata": {
        "colab": {
          "base_uri": "https://localhost:8080/"
        },
        "id": "oVahGE9TIXHY",
        "outputId": "dc5c9409-a6c7-4aea-bf86-6cc03a71723a"
      },
      "execution_count": 26,
      "outputs": [
        {
          "output_type": "stream",
          "name": "stdout",
          "text": [
            "MIA kebaso\n"
          ]
        }
      ]
    },
    {
      "cell_type": "markdown",
      "source": [],
      "metadata": {
        "id": "UC-_YVGEtvYx"
      }
    },
    {
      "cell_type": "markdown",
      "source": [
        "WHILE LOOPS"
      ],
      "metadata": {
        "id": "pLGIqGJltzLX"
      }
    },
    {
      "cell_type": "markdown",
      "source": [
        "How to continue and break the loop"
      ],
      "metadata": {
        "id": "PpoZdUn7JyHk"
      }
    },
    {
      "cell_type": "code",
      "source": [
        "water_cans = 10\n",
        "cans_carried= 0\n",
        "\n",
        "for water_can in range(water_cans):\n",
        "  print('We have carried')\n",
        "  cans_carried +=1\n",
        "  print(f'{cans_carried} can')\n",
        "  # print(cans_carried)\n",
        "  # print(cans_carried,'cans so far')\n"
      ],
      "metadata": {
        "colab": {
          "base_uri": "https://localhost:8080/"
        },
        "id": "B7OkYSylJ32j",
        "outputId": "d8179cb5-47c4-4c85-f074-bc274177fd43"
      },
      "execution_count": 27,
      "outputs": [
        {
          "output_type": "stream",
          "name": "stdout",
          "text": [
            "We have carried\n",
            "1 can\n",
            "We have carried\n",
            "2 can\n",
            "We have carried\n",
            "3 can\n",
            "We have carried\n",
            "4 can\n",
            "We have carried\n",
            "5 can\n",
            "We have carried\n",
            "6 can\n",
            "We have carried\n",
            "7 can\n",
            "We have carried\n",
            "8 can\n",
            "We have carried\n",
            "9 can\n",
            "We have carried\n",
            "10 can\n"
          ]
        }
      ]
    },
    {
      "cell_type": "code",
      "source": [],
      "metadata": {
        "id": "lycELxhHMP21"
      },
      "execution_count": 27,
      "outputs": []
    },
    {
      "cell_type": "markdown",
      "source": [
        "FUNCTIONS"
      ],
      "metadata": {
        "id": "mdI2oLFOhMju"
      }
    },
    {
      "cell_type": "code",
      "source": [
        "def greet_people():\n",
        "  print('Habari')"
      ],
      "metadata": {
        "id": "kYzxW_lwhRk0"
      },
      "execution_count": 28,
      "outputs": []
    },
    {
      "cell_type": "code",
      "source": [
        "greet_people()"
      ],
      "metadata": {
        "colab": {
          "base_uri": "https://localhost:8080/"
        },
        "id": "jiBfVaMciQ44",
        "outputId": "116e956c-ee8d-4101-dcdd-752632c9d5e7"
      },
      "execution_count": 29,
      "outputs": [
        {
          "output_type": "stream",
          "name": "stdout",
          "text": [
            "Habari\n"
          ]
        }
      ]
    },
    {
      "cell_type": "code",
      "source": [
        "def calc (a,b):\n",
        "  return(a*b)"
      ],
      "metadata": {
        "id": "hRJ50WZWiT57"
      },
      "execution_count": 30,
      "outputs": []
    },
    {
      "cell_type": "code",
      "source": [
        "calc(2,5)"
      ],
      "metadata": {
        "colab": {
          "base_uri": "https://localhost:8080/"
        },
        "id": "6bsjRw7Ei6s6",
        "outputId": "6fd1a82c-4407-4a13-8e06-fc1b26597875"
      },
      "execution_count": 31,
      "outputs": [
        {
          "output_type": "execute_result",
          "data": {
            "text/plain": [
              "10"
            ]
          },
          "metadata": {},
          "execution_count": 31
        }
      ]
    },
    {
      "cell_type": "code",
      "source": [
        "new_interns = ['Kelly', 'Fiona' , 'Susan']\n"
      ],
      "metadata": {
        "id": "LGYq6cZfi05m"
      },
      "execution_count": 32,
      "outputs": []
    },
    {
      "cell_type": "code",
      "source": [
        "# def greet_people(name):\n",
        "#   print('Habari', name)"
      ],
      "metadata": {
        "id": "muIado-3jx_t"
      },
      "execution_count": 33,
      "outputs": []
    },
    {
      "cell_type": "code",
      "source": [
        "# Defining a  function\n",
        "def greet_people():\n",
        "  welcome_message= []\n",
        "  for name in new_interns:\n",
        "    welcome_message.append('Habari' ' ' + name)\n",
        "  return welcome_message"
      ],
      "metadata": {
        "id": "ddD2tqakj81v"
      },
      "execution_count": 34,
      "outputs": []
    },
    {
      "cell_type": "code",
      "source": [
        "#Executing the function\n",
        "greet_people()"
      ],
      "metadata": {
        "colab": {
          "base_uri": "https://localhost:8080/"
        },
        "id": "EvsybxP9kC-a",
        "outputId": "3f6a24af-7aba-46a6-c762-4df65408287a"
      },
      "execution_count": 35,
      "outputs": [
        {
          "output_type": "execute_result",
          "data": {
            "text/plain": [
              "['Habari Kelly', 'Habari Fiona', 'Habari Susan']"
            ]
          },
          "metadata": {},
          "execution_count": 35
        }
      ]
    },
    {
      "cell_type": "code",
      "source": [
        "travel_destination = ['argentina', 'mexico', 'italy', 'finland', 'canada', 'croatia']\n"
      ],
      "metadata": {
        "id": "IrTW7slMlILp"
      },
      "execution_count": 36,
      "outputs": []
    },
    {
      "cell_type": "code",
      "source": [
        "def number_of_destination():\n",
        "  return len(travel_destination)"
      ],
      "metadata": {
        "id": "ca3Gj87RsxRn"
      },
      "execution_count": 37,
      "outputs": []
    },
    {
      "cell_type": "code",
      "source": [
        "number_of_destination()"
      ],
      "metadata": {
        "colab": {
          "base_uri": "https://localhost:8080/"
        },
        "id": "vNo7LZSTs-1T",
        "outputId": "66124283-f991-4aa9-acf5-3323eb0e6777"
      },
      "execution_count": 38,
      "outputs": [
        {
          "output_type": "execute_result",
          "data": {
            "text/plain": [
              "6"
            ]
          },
          "metadata": {},
          "execution_count": 38
        }
      ]
    },
    {
      "cell_type": "code",
      "source": [
        "def next_up():\n",
        "  return travel_destination[0]"
      ],
      "metadata": {
        "id": "5jTqxVZytmwA"
      },
      "execution_count": 39,
      "outputs": []
    },
    {
      "cell_type": "code",
      "source": [
        "next_up()"
      ],
      "metadata": {
        "colab": {
          "base_uri": "https://localhost:8080/",
          "height": 35
        },
        "id": "x9vRAUm7uN7A",
        "outputId": "3f5f351b-35b3-4de2-c19f-74de8c447919"
      },
      "execution_count": 40,
      "outputs": [
        {
          "output_type": "execute_result",
          "data": {
            "text/plain": [
              "'argentina'"
            ],
            "application/vnd.google.colaboratory.intrinsic+json": {
              "type": "string"
            }
          },
          "metadata": {},
          "execution_count": 40
        }
      ]
    },
    {
      "cell_type": "code",
      "source": [
        "def favourite_destination():\n",
        "  return('Madagascar')"
      ],
      "metadata": {
        "id": "lRIiIDjnuQV8"
      },
      "execution_count": 41,
      "outputs": []
    },
    {
      "cell_type": "code",
      "source": [
        "favourite_destination()"
      ],
      "metadata": {
        "colab": {
          "base_uri": "https://localhost:8080/",
          "height": 35
        },
        "id": "np8FaGBOvO3a",
        "outputId": "3261e7e0-0629-425f-c6ab-a1638548e73a"
      },
      "execution_count": 42,
      "outputs": [
        {
          "output_type": "execute_result",
          "data": {
            "text/plain": [
              "'Madagascar'"
            ],
            "application/vnd.google.colaboratory.intrinsic+json": {
              "type": "string"
            }
          },
          "metadata": {},
          "execution_count": 42
        }
      ]
    },
    {
      "cell_type": "code",
      "source": [
        "def add_favourite_destination ():\n",
        "  travel_destination.append(favourite_destination())\n",
        "  return travel_destination[-1]"
      ],
      "metadata": {
        "id": "OeBBFLzcvXQo"
      },
      "execution_count": 43,
      "outputs": []
    },
    {
      "cell_type": "code",
      "source": [
        "add_favourite_destination()"
      ],
      "metadata": {
        "colab": {
          "base_uri": "https://localhost:8080/",
          "height": 35
        },
        "id": "bm70yFzRwMm_",
        "outputId": "9eb0cf5f-a14e-4dc9-dfa2-907314eb16b7"
      },
      "execution_count": 44,
      "outputs": [
        {
          "output_type": "execute_result",
          "data": {
            "text/plain": [
              "'Madagascar'"
            ],
            "application/vnd.google.colaboratory.intrinsic+json": {
              "type": "string"
            }
          },
          "metadata": {},
          "execution_count": 44
        }
      ]
    },
    {
      "cell_type": "code",
      "source": [
        "def capitalize_countries():\n",
        "  for index in range(len(travel_destination)):\n",
        "    travel_destination[index] = travel_destination[index].capitalize()\n",
        "  return travel_destination"
      ],
      "metadata": {
        "id": "tq2Bh2EZwVun"
      },
      "execution_count": 45,
      "outputs": []
    },
    {
      "cell_type": "code",
      "source": [
        "capitalize_countries()"
      ],
      "metadata": {
        "colab": {
          "base_uri": "https://localhost:8080/"
        },
        "id": "cL-EitoYw10g",
        "outputId": "2aa3fc0f-d8f1-4405-c1e3-c37f4c3f1b12"
      },
      "execution_count": 46,
      "outputs": [
        {
          "output_type": "execute_result",
          "data": {
            "text/plain": [
              "['Argentina', 'Mexico', 'Italy', 'Finland', 'Canada', 'Croatia', 'Madagascar']"
            ]
          },
          "metadata": {},
          "execution_count": 46
        }
      ]
    },
    {
      "cell_type": "code",
      "source": [
        "def meet(name):\n",
        "  print('Jina langu ni' + ' ' + name)"
      ],
      "metadata": {
        "id": "Z0HPKSJFw7JY"
      },
      "execution_count": 47,
      "outputs": []
    },
    {
      "cell_type": "code",
      "source": [
        "meet('Mylo')"
      ],
      "metadata": {
        "colab": {
          "base_uri": "https://localhost:8080/"
        },
        "id": "9Gc7NPLI1UHq",
        "outputId": "3b578a83-300f-41e8-ca81-8b87d3d9a5ec"
      },
      "execution_count": 48,
      "outputs": [
        {
          "output_type": "stream",
          "name": "stdout",
          "text": [
            "Jina langu ni Mylo\n"
          ]
        }
      ]
    },
    {
      "cell_type": "code",
      "source": [
        "def find_the_mean(list_of_numbers):\n",
        "  n= len(list_of_numbers)\n",
        "  summation = sum(list_of_numbers)\n",
        "  mean = summation/n\n",
        "  return mean\n"
      ],
      "metadata": {
        "id": "9pTsXJOl1Y_q"
      },
      "execution_count": 49,
      "outputs": []
    },
    {
      "cell_type": "code",
      "source": [
        "find_the_mean([1,2,3,4,5,6,7,8,9,10])"
      ],
      "metadata": {
        "colab": {
          "base_uri": "https://localhost:8080/"
        },
        "id": "sXXx_VYe3H2v",
        "outputId": "6ee580a8-52f2-4ed5-c8b7-9815576be682"
      },
      "execution_count": 50,
      "outputs": [
        {
          "output_type": "execute_result",
          "data": {
            "text/plain": [
              "5.5"
            ]
          },
          "metadata": {},
          "execution_count": 50
        }
      ]
    },
    {
      "cell_type": "code",
      "source": [
        "area_one_pops = [10453, 12383, 8034, 800835, 76434, 32394]\n",
        "find_the_mean(area_one_pops)"
      ],
      "metadata": {
        "colab": {
          "base_uri": "https://localhost:8080/"
        },
        "id": "J2urvZ6N3Jxq",
        "outputId": "2acdc130-44df-43cd-928f-c7baeae7cd12"
      },
      "execution_count": 51,
      "outputs": [
        {
          "output_type": "execute_result",
          "data": {
            "text/plain": [
              "156755.5"
            ]
          },
          "metadata": {},
          "execution_count": 51
        }
      ]
    },
    {
      "cell_type": "code",
      "source": [
        "area_two_pops = [43845, 54930, 59354, 96403, 73492, 729320]\n",
        "find_the_mean(area_two_pops)"
      ],
      "metadata": {
        "colab": {
          "base_uri": "https://localhost:8080/"
        },
        "id": "3RD4V_7r5Inq",
        "outputId": "53a35a68-6e53-4059-eb3f-e671f830edc7"
      },
      "execution_count": 52,
      "outputs": [
        {
          "output_type": "execute_result",
          "data": {
            "text/plain": [
              "176224.0"
            ]
          },
          "metadata": {},
          "execution_count": 52
        }
      ]
    },
    {
      "cell_type": "code",
      "source": [
        "def find_largest_pop(area_one_pops,area_two_pops):\n",
        "  mean_one = find_the_mean(area_one_pops)\n",
        "def find_largest_pop(area_one_pops,area_two_pops):\n",
        "  mean_one = find_the_mean(area_one_pops)\n",
        "  mean_two = find_the_mean(area_two_pops)\n",
        "  if mean_one > mean_two:\n",
        "    return ('Population One is larger', area_one_pops)\n",
        "  else:\n",
        "    return ('Population Two is larger', area_two_pops)"
      ],
      "metadata": {
        "id": "CfVlH5pG5O5m"
      },
      "execution_count": 53,
      "outputs": []
    },
    {
      "cell_type": "code",
      "source": [
        "find_largest_pop(area_one_pops,area_two_pops)"
      ],
      "metadata": {
        "colab": {
          "base_uri": "https://localhost:8080/"
        },
        "id": "9riaP_Cz5_dB",
        "outputId": "4f9a5ae6-5038-4538-c313-385952ca9454"
      },
      "execution_count": 54,
      "outputs": [
        {
          "output_type": "execute_result",
          "data": {
            "text/plain": [
              "('Population Two is larger', [43845, 54930, 59354, 96403, 73492, 729320])"
            ]
          },
          "metadata": {},
          "execution_count": 54
        }
      ]
    },
    {
      "cell_type": "code",
      "source": [],
      "metadata": {
        "id": "qDakTEfZ-vEl"
      },
      "execution_count": 54,
      "outputs": []
    },
    {
      "cell_type": "markdown",
      "source": [
        "NumPY (NUMERICAL PYTHON)"
      ],
      "metadata": {
        "id": "MSddo05A-xrh"
      }
    },
    {
      "cell_type": "code",
      "source": [
        "# pip install is the package manager\n",
        "\n",
        "import numpy as np"
      ],
      "metadata": {
        "id": "_pqnOCzA6QJy"
      },
      "execution_count": 55,
      "outputs": []
    },
    {
      "cell_type": "code",
      "source": [
        "learn_array = np.array([1,2,3,4,5,6,7])"
      ],
      "metadata": {
        "id": "VfkeKduc9itL"
      },
      "execution_count": 56,
      "outputs": []
    },
    {
      "cell_type": "code",
      "source": [
        "learn_array"
      ],
      "metadata": {
        "colab": {
          "base_uri": "https://localhost:8080/"
        },
        "id": "-VpV6qE_BKt6",
        "outputId": "9ced1ace-0d24-4de7-8d6e-6871877d8210"
      },
      "execution_count": 57,
      "outputs": [
        {
          "output_type": "execute_result",
          "data": {
            "text/plain": [
              "array([1, 2, 3, 4, 5, 6, 7])"
            ]
          },
          "metadata": {},
          "execution_count": 57
        }
      ]
    },
    {
      "cell_type": "code",
      "source": [
        "type(learn_array)"
      ],
      "metadata": {
        "colab": {
          "base_uri": "https://localhost:8080/"
        },
        "id": "gxKbV6DeBM27",
        "outputId": "a6dda394-9f3b-45b5-9cbe-a50c4ad2bdd2"
      },
      "execution_count": 58,
      "outputs": [
        {
          "output_type": "execute_result",
          "data": {
            "text/plain": [
              "numpy.ndarray"
            ]
          },
          "metadata": {},
          "execution_count": 58
        }
      ]
    },
    {
      "cell_type": "code",
      "source": [
        "example_array =[1,2,3,4]"
      ],
      "metadata": {
        "id": "pBOy7oMhBXfd"
      },
      "execution_count": 59,
      "outputs": []
    },
    {
      "cell_type": "code",
      "source": [
        "example_array+3"
      ],
      "metadata": {
        "colab": {
          "base_uri": "https://localhost:8080/",
          "height": 144
        },
        "id": "U-IzLNTyCvVj",
        "outputId": "6b5bfa45-d7f5-49ca-8e0c-ba3f032560c1"
      },
      "execution_count": 60,
      "outputs": [
        {
          "output_type": "error",
          "ename": "TypeError",
          "evalue": "can only concatenate list (not \"int\") to list",
          "traceback": [
            "\u001b[0;31m---------------------------------------------------------------------------\u001b[0m",
            "\u001b[0;31mTypeError\u001b[0m                                 Traceback (most recent call last)",
            "\u001b[0;32m<ipython-input-60-01baad92cef0>\u001b[0m in \u001b[0;36m<cell line: 1>\u001b[0;34m()\u001b[0m\n\u001b[0;32m----> 1\u001b[0;31m \u001b[0mexample_array\u001b[0m\u001b[0;34m+\u001b[0m\u001b[0;36m3\u001b[0m\u001b[0;34m\u001b[0m\u001b[0;34m\u001b[0m\u001b[0m\n\u001b[0m",
            "\u001b[0;31mTypeError\u001b[0m: can only concatenate list (not \"int\") to list"
          ]
        }
      ]
    },
    {
      "cell_type": "code",
      "source": [
        "example_array + [3]"
      ],
      "metadata": {
        "colab": {
          "base_uri": "https://localhost:8080/"
        },
        "id": "WbUAccOmCzJS",
        "outputId": "fee60a7a-1686-435e-b60a-a4670dc33a54"
      },
      "execution_count": 61,
      "outputs": [
        {
          "output_type": "execute_result",
          "data": {
            "text/plain": [
              "[1, 2, 3, 4, 3]"
            ]
          },
          "metadata": {},
          "execution_count": 61
        }
      ]
    },
    {
      "cell_type": "code",
      "source": [
        "numpy_arr = np.array(example_array)"
      ],
      "metadata": {
        "id": "6zumPEi6C6Zh"
      },
      "execution_count": 62,
      "outputs": []
    },
    {
      "cell_type": "code",
      "source": [
        "numpy_arr + 60"
      ],
      "metadata": {
        "colab": {
          "base_uri": "https://localhost:8080/"
        },
        "id": "bVTH9oYVDZWx",
        "outputId": "9de288b6-b2f4-4b46-880e-6588bc368174"
      },
      "execution_count": 63,
      "outputs": [
        {
          "output_type": "execute_result",
          "data": {
            "text/plain": [
              "array([61, 62, 63, 64])"
            ]
          },
          "metadata": {},
          "execution_count": 63
        }
      ]
    },
    {
      "cell_type": "code",
      "source": [
        "length = np.array([9, 8,7,6,5,4])\n",
        "width =np.array([9,8,7,6,5,4])\n"
      ],
      "metadata": {
        "id": "H8TE3Xs_DgwQ"
      },
      "execution_count": 64,
      "outputs": []
    },
    {
      "cell_type": "code",
      "source": [
        "area = length * width\n",
        "area"
      ],
      "metadata": {
        "colab": {
          "base_uri": "https://localhost:8080/"
        },
        "id": "LiEgwocpFHSZ",
        "outputId": "d75abd14-7018-41cf-cb41-66744ae1c215"
      },
      "execution_count": 65,
      "outputs": [
        {
          "output_type": "execute_result",
          "data": {
            "text/plain": [
              "array([81, 64, 49, 36, 25, 16])"
            ]
          },
          "metadata": {},
          "execution_count": 65
        }
      ]
    },
    {
      "cell_type": "code",
      "source": [
        "import time\n",
        "\n",
        "# Using 1 million integers\n",
        "huge_list_of_integers = list(range(0, 1000000))\n",
        "huge_np_array_of_integers = np.array(huge_list_of_integers)\n",
        "\n",
        "def add_one(list_of_ints):\n",
        "    return [num + 1 for num in list_of_ints]\n",
        "\n",
        "\n",
        "start_time = time.perf_counter() # Time when operation starts\n",
        "add_one(huge_list_of_integers) # Adds 1 to each number in the list of integers above\n",
        "end_time = time.perf_counter() # Time when operation finishes\n",
        "total_time = (end_time - start_time) # Total time for operation\n",
        "start_time_with_np = time.perf_counter() # Time when operation starts\n",
        "huge_np_array_of_integers + 1 # Adds 1 to each number in the array of integers\n",
        "end_time_with_np = time.perf_counter() # Time when operation finishes\n",
        "total_time_with_np = (end_time_with_np - start_time_with_np) # Total time for operation\n",
        "\n",
        "print('Time it takes to add 1 to each element in a list without NumPy:', total_time)\n",
        "print('Time it takes to add 1 to each element in a list with NumPy:', total_time_with_np)\n",
        "\n",
        "percent_faster = int((((total_time - total_time_with_np)/total_time)*100))\n",
        "print('NumPy completes the operation', percent_faster, '% faster than a traditional list')"
      ],
      "metadata": {
        "colab": {
          "base_uri": "https://localhost:8080/"
        },
        "id": "Gbd11CGDFMFZ",
        "outputId": "1cec0a33-fae6-4e26-aa0d-c4c024f0605a"
      },
      "execution_count": 66,
      "outputs": [
        {
          "output_type": "stream",
          "name": "stdout",
          "text": [
            "Time it takes to add 1 to each element in a list without NumPy: 0.1090498249999996\n",
            "Time it takes to add 1 to each element in a list with NumPy: 0.004712604999951964\n",
            "NumPy completes the operation 95 % faster than a traditional list\n"
          ]
        }
      ]
    },
    {
      "cell_type": "code",
      "source": [],
      "metadata": {
        "id": "RQreONJvnfwr"
      },
      "execution_count": 66,
      "outputs": []
    },
    {
      "cell_type": "markdown",
      "source": [
        "**Getting started with Numerical Python**"
      ],
      "metadata": {
        "id": "LC6IZSMVnc1K"
      }
    },
    {
      "cell_type": "code",
      "source": [
        "x = [3,6,9]"
      ],
      "metadata": {
        "id": "Q9QI1B1jnbml"
      },
      "execution_count": 67,
      "outputs": []
    },
    {
      "cell_type": "code",
      "source": [
        "x = np.array([3,6,9])\n",
        "print(type(x))"
      ],
      "metadata": {
        "colab": {
          "base_uri": "https://localhost:8080/"
        },
        "id": "h6xmvT9EnF7u",
        "outputId": "46857b5c-ca7d-4517-a45d-bf6d53614f62"
      },
      "execution_count": 69,
      "outputs": [
        {
          "output_type": "stream",
          "name": "stdout",
          "text": [
            "<class 'numpy.ndarray'>\n"
          ]
        }
      ]
    },
    {
      "cell_type": "code",
      "source": [
        "# List of numbers\n",
        "x=[3,5,8,12,15,18,20,22,25,30,50,80,687]"
      ],
      "metadata": {
        "id": "EN5EobvNnkHh"
      },
      "execution_count": 71,
      "outputs": []
    },
    {
      "cell_type": "code",
      "source": [
        "x=sorted(x)"
      ],
      "metadata": {
        "id": "QyohwA9r4jRC"
      },
      "execution_count": 72,
      "outputs": []
    },
    {
      "cell_type": "code",
      "source": [
        "distance = len(x)-1\n",
        "distance"
      ],
      "metadata": {
        "colab": {
          "base_uri": "https://localhost:8080/"
        },
        "id": "z21FIFfs4oH6",
        "outputId": "052be274-ee00-4c95-ea41-85996b4e55a5"
      },
      "execution_count": 73,
      "outputs": [
        {
          "output_type": "execute_result",
          "data": {
            "text/plain": [
              "12"
            ]
          },
          "metadata": {},
          "execution_count": 73
        }
      ]
    },
    {
      "cell_type": "code",
      "source": [
        "index_p25 = 0.25 * distance\n",
        "index_p25"
      ],
      "metadata": {
        "colab": {
          "base_uri": "https://localhost:8080/"
        },
        "id": "0LhPuHR14wCu",
        "outputId": "d1896e38-f70b-4df5-eabe-ab1eb1a1bf63"
      },
      "execution_count": 74,
      "outputs": [
        {
          "output_type": "execute_result",
          "data": {
            "text/plain": [
              "3.0"
            ]
          },
          "metadata": {},
          "execution_count": 74
        }
      ]
    },
    {
      "cell_type": "code",
      "source": [
        "index_p75 = 0.75 * distance\n",
        "index_p75"
      ],
      "metadata": {
        "colab": {
          "base_uri": "https://localhost:8080/"
        },
        "id": "oNnfw0J35Cmq",
        "outputId": "3db4f5d7-a95d-4594-8a5e-92acd92f94ff"
      },
      "execution_count": 75,
      "outputs": [
        {
          "output_type": "execute_result",
          "data": {
            "text/plain": [
              "9.0"
            ]
          },
          "metadata": {},
          "execution_count": 75
        }
      ]
    },
    {
      "cell_type": "code",
      "source": [
        "p25 = x[int(index_p25)]\n",
        "p25"
      ],
      "metadata": {
        "colab": {
          "base_uri": "https://localhost:8080/"
        },
        "id": "6VVfbZ305cjd",
        "outputId": "e5a5346d-efc7-4813-dec3-0b9dabd845a2"
      },
      "execution_count": 78,
      "outputs": [
        {
          "output_type": "execute_result",
          "data": {
            "text/plain": [
              "12"
            ]
          },
          "metadata": {},
          "execution_count": 78
        }
      ]
    },
    {
      "cell_type": "code",
      "source": [
        "p75 = x[int(index_p75)]\n",
        "p75"
      ],
      "metadata": {
        "colab": {
          "base_uri": "https://localhost:8080/"
        },
        "id": "Wu5Gkoq16HNl",
        "outputId": "441fb5cc-a5bb-47e4-f34b-1ba1a3098376"
      },
      "execution_count": 79,
      "outputs": [
        {
          "output_type": "execute_result",
          "data": {
            "text/plain": [
              "30"
            ]
          },
          "metadata": {},
          "execution_count": 79
        }
      ]
    },
    {
      "cell_type": "code",
      "source": [
        "iqr = p75 - p25\n",
        "iqr"
      ],
      "metadata": {
        "colab": {
          "base_uri": "https://localhost:8080/"
        },
        "id": "kky_OwUJ60we",
        "outputId": "b6ecc1c9-0962-47ea-c5ae-f0568fe7763a"
      },
      "execution_count": 82,
      "outputs": [
        {
          "output_type": "execute_result",
          "data": {
            "text/plain": [
              "18"
            ]
          },
          "metadata": {},
          "execution_count": 82
        }
      ]
    },
    {
      "cell_type": "code",
      "source": [
        "import numpy as np\n",
        "np.percentile(x, 75) - np.percentile(x, 25)"
      ],
      "metadata": {
        "colab": {
          "base_uri": "https://localhost:8080/"
        },
        "id": "rpWu3RJ46TlW",
        "outputId": "2369e6ef-8399-4d7c-88a0-5d98ab8a2400"
      },
      "execution_count": 85,
      "outputs": [
        {
          "output_type": "execute_result",
          "data": {
            "text/plain": [
              "18.0"
            ]
          },
          "metadata": {},
          "execution_count": 85
        }
      ]
    },
    {
      "cell_type": "code",
      "source": [],
      "metadata": {
        "id": "OR0bykIf8VbK"
      },
      "execution_count": null,
      "outputs": []
    }
  ]
}